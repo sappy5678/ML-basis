{
 "cells": [
  {
   "cell_type": "markdown",
   "metadata": {
    "slideshow": {
     "slide_type": "fragment"
    }
   },
   "source": [
    "# Pytorch 基本操作\n",
    "\n",
    "參考 \n",
    "* [PyTorch 基礎篇](https://fgc.stpi.narl.org.tw/activity/videoDetail/4b1141305d9cd231015d9d0992ef0030)\n",
    "* [PyTorch深度学习：60分钟入门(Translation)](https://zhuanlan.zhihu.com/p/25572330)\n",
    "* [超简单！pytorch入门教程](https://www.jianshu.com/p/5ae644748f21)\n",
    "* [PyTorch：入门与实践](https://github.com/chenyuntc/pytorch-book.git)"
   ]
  },
  {
   "cell_type": "code",
   "execution_count": 4,
   "metadata": {
    "collapsed": true
   },
   "outputs": [],
   "source": [
    "# 引入 \n",
    "import torch"
   ]
  },
  {
   "cell_type": "markdown",
   "metadata": {},
   "source": [
    "## 建立矩陣"
   ]
  },
  {
   "cell_type": "code",
   "execution_count": 5,
   "metadata": {},
   "outputs": [
    {
     "data": {
      "text/plain": [
       "\n",
       " 1  1  1\n",
       " 1  1  1\n",
       " 1  1  1\n",
       " 1  1  1\n",
       " 1  1  1\n",
       "[torch.FloatTensor of size 5x3]"
      ]
     },
     "execution_count": 5,
     "metadata": {},
     "output_type": "execute_result"
    }
   ],
   "source": [
    "torch.ones(5, 3)    # 創造一個填滿1的矩陣"
   ]
  },
  {
   "cell_type": "code",
   "execution_count": 6,
   "metadata": {},
   "outputs": [
    {
     "data": {
      "text/plain": [
       "\n",
       " 0  0  0\n",
       " 0  0  0\n",
       " 0  0  0\n",
       " 0  0  0\n",
       " 0  0  0\n",
       "[torch.FloatTensor of size 5x3]"
      ]
     },
     "execution_count": 6,
     "metadata": {},
     "output_type": "execute_result"
    }
   ],
   "source": [
    "torch.zeros(5, 3)   # 創造一個填滿0的矩陣"
   ]
  },
  {
   "cell_type": "code",
   "execution_count": 7,
   "metadata": {},
   "outputs": [
    {
     "data": {
      "text/plain": [
       "\n",
       " 1  0  0  0\n",
       " 0  1  0  0\n",
       " 0  0  1  0\n",
       " 0  0  0  1\n",
       "[torch.FloatTensor of size 4x4]"
      ]
     },
     "execution_count": 7,
     "metadata": {},
     "output_type": "execute_result"
    }
   ],
   "source": [
    "torch.eye(4)        # 創造一個4x4的單位矩陣"
   ]
  },
  {
   "cell_type": "code",
   "execution_count": 8,
   "metadata": {},
   "outputs": [
    {
     "data": {
      "text/plain": [
       "\n",
       " 0.6374  0.3623  0.0970\n",
       " 0.0838  0.4948  0.2724\n",
       " 0.8195  0.1041  0.4521\n",
       " 0.6374  0.1082  0.0680\n",
       " 0.0658  0.8234  0.4679\n",
       "[torch.FloatTensor of size 5x3]"
      ]
     },
     "execution_count": 8,
     "metadata": {},
     "output_type": "execute_result"
    }
   ],
   "source": [
    "torch.rand(5, 3)    # 創造一個元素在[0,1)中隨機分佈的矩陣"
   ]
  },
  {
   "cell_type": "code",
   "execution_count": 9,
   "metadata": {},
   "outputs": [
    {
     "data": {
      "text/plain": [
       "\n",
       " 0.0081  0.8676 -0.6413\n",
       " 0.0693  0.5628 -1.1168\n",
       "-1.3613  0.1447  0.1709\n",
       " 0.3030  0.3594  0.9472\n",
       "-1.1710 -1.3613  0.9331\n",
       "[torch.FloatTensor of size 5x3]"
      ]
     },
     "execution_count": 9,
     "metadata": {},
     "output_type": "execute_result"
    }
   ],
   "source": [
    "torch.randn(5, 3)   # 創造一個元素從常態分佈(0, 1)隨機取值的矩陣"
   ]
  },
  {
   "cell_type": "markdown",
   "metadata": {},
   "source": [
    "## 基本運算"
   ]
  },
  {
   "cell_type": "code",
   "execution_count": 10,
   "metadata": {
    "collapsed": true
   },
   "outputs": [],
   "source": [
    "m1 = torch.eye(5)\n",
    "m2 = torch.eye(5)"
   ]
  },
  {
   "cell_type": "markdown",
   "metadata": {},
   "source": [
    "### 合併"
   ]
  },
  {
   "cell_type": "code",
   "execution_count": 14,
   "metadata": {},
   "outputs": [
    {
     "data": {
      "text/plain": [
       "\n",
       "    1     0     0     0     0\n",
       "    0     1     0     0     0\n",
       "    0     0     1     0     0\n",
       "    0     0     0     1     0\n",
       "    0     0     0     0     1\n",
       "    1     0     0     0     0\n",
       "    0     1     0     0     0\n",
       "    0     0     1     0     0\n",
       "    0     0     0     1     0\n",
       "    0     0     0     0     1\n",
       "[torch.FloatTensor of size 10x5]"
      ]
     },
     "execution_count": 14,
     "metadata": {},
     "output_type": "execute_result"
    }
   ],
   "source": [
    "torch.cat((m1, m2), 0)    # 將m1和m2兩個矩陣在第零個維度合併起來"
   ]
  },
  {
   "cell_type": "code",
   "execution_count": 15,
   "metadata": {},
   "outputs": [
    {
     "data": {
      "text/plain": [
       "\n",
       "    1     0     0     0     0     1     0     0     0     0\n",
       "    0     1     0     0     0     0     1     0     0     0\n",
       "    0     0     1     0     0     0     0     1     0     0\n",
       "    0     0     0     1     0     0     0     0     1     0\n",
       "    0     0     0     0     1     0     0     0     0     1\n",
       "[torch.FloatTensor of size 5x10]"
      ]
     },
     "execution_count": 15,
     "metadata": {},
     "output_type": "execute_result"
    }
   ],
   "source": [
    "torch.cat((m1, m2), 1)    # 將m1和m2兩個矩陣在第一個維度合併起來"
   ]
  },
  {
   "cell_type": "markdown",
   "metadata": {},
   "source": [
    "### 堆疊"
   ]
  },
  {
   "cell_type": "code",
   "execution_count": 20,
   "metadata": {},
   "outputs": [
    {
     "data": {
      "text/plain": [
       "\n",
       "(0 ,.,.) = \n",
       "  1  0  0  0  0\n",
       "  0  1  0  0  0\n",
       "  0  0  1  0  0\n",
       "  0  0  0  1  0\n",
       "  0  0  0  0  1\n",
       "\n",
       "(1 ,.,.) = \n",
       "  1  0  0  0  0\n",
       "  0  1  0  0  0\n",
       "  0  0  1  0  0\n",
       "  0  0  0  1  0\n",
       "  0  0  0  0  1\n",
       "[torch.FloatTensor of size 2x5x5]"
      ]
     },
     "execution_count": 20,
     "metadata": {},
     "output_type": "execute_result"
    }
   ],
   "source": [
    "torch.stack((m1, m2), 0)  # 將m1和m2兩個矩陣在新的維度（第零維）疊起來"
   ]
  },
  {
   "cell_type": "code",
   "execution_count": 21,
   "metadata": {},
   "outputs": [
    {
     "data": {
      "text/plain": [
       "\n",
       "(0 ,.,.) = \n",
       "  1  0  0  0  0\n",
       "  1  0  0  0  0\n",
       "\n",
       "(1 ,.,.) = \n",
       "  0  1  0  0  0\n",
       "  0  1  0  0  0\n",
       "\n",
       "(2 ,.,.) = \n",
       "  0  0  1  0  0\n",
       "  0  0  1  0  0\n",
       "\n",
       "(3 ,.,.) = \n",
       "  0  0  0  1  0\n",
       "  0  0  0  1  0\n",
       "\n",
       "(4 ,.,.) = \n",
       "  0  0  0  0  1\n",
       "  0  0  0  0  1\n",
       "[torch.FloatTensor of size 5x2x5]"
      ]
     },
     "execution_count": 21,
     "metadata": {},
     "output_type": "execute_result"
    }
   ],
   "source": [
    "torch.stack((m1, m2), 1)  # 將m1和m2兩個矩陣在新的維度（第一維）疊起來"
   ]
  },
  {
   "cell_type": "code",
   "execution_count": 22,
   "metadata": {},
   "outputs": [
    {
     "data": {
      "text/plain": [
       "\n",
       "(0 ,.,.) = \n",
       "  1  1\n",
       "  0  0\n",
       "  0  0\n",
       "  0  0\n",
       "  0  0\n",
       "\n",
       "(1 ,.,.) = \n",
       "  0  0\n",
       "  1  1\n",
       "  0  0\n",
       "  0  0\n",
       "  0  0\n",
       "\n",
       "(2 ,.,.) = \n",
       "  0  0\n",
       "  0  0\n",
       "  1  1\n",
       "  0  0\n",
       "  0  0\n",
       "\n",
       "(3 ,.,.) = \n",
       "  0  0\n",
       "  0  0\n",
       "  0  0\n",
       "  1  1\n",
       "  0  0\n",
       "\n",
       "(4 ,.,.) = \n",
       "  0  0\n",
       "  0  0\n",
       "  0  0\n",
       "  0  0\n",
       "  1  1\n",
       "[torch.FloatTensor of size 5x5x2]"
      ]
     },
     "execution_count": 22,
     "metadata": {},
     "output_type": "execute_result"
    }
   ],
   "source": [
    "torch.stack((m1, m2), 2)  # 將m1和m2兩個矩陣在新的維度（第二維）疊起來"
   ]
  },
  {
   "cell_type": "markdown",
   "metadata": {},
   "source": [
    "### 新增維度 / 壓縮維度"
   ]
  },
  {
   "cell_type": "code",
   "execution_count": 25,
   "metadata": {},
   "outputs": [
    {
     "data": {
      "text/plain": [
       "\n",
       "(0 ,.,.) = \n",
       "  1  0  0  0  0\n",
       "\n",
       "(1 ,.,.) = \n",
       "  0  1  0  0  0\n",
       "\n",
       "(2 ,.,.) = \n",
       "  0  0  1  0  0\n",
       "\n",
       "(3 ,.,.) = \n",
       "  0  0  0  1  0\n",
       "\n",
       "(4 ,.,.) = \n",
       "  0  0  0  0  1\n",
       "[torch.FloatTensor of size 5x1x5]"
      ]
     },
     "execution_count": 25,
     "metadata": {},
     "output_type": "execute_result"
    }
   ],
   "source": [
    "m1.unsqueeze(1)            # m的第一維多一個維度，即\n",
    "                          # (A, B) -> (A, 1, B)"
   ]
  },
  {
   "cell_type": "code",
   "execution_count": 26,
   "metadata": {},
   "outputs": [
    {
     "data": {
      "text/plain": [
       "\n",
       " 1  0  0  0  0\n",
       " 0  1  0  0  0\n",
       " 0  0  1  0  0\n",
       " 0  0  0  1  0\n",
       " 0  0  0  0  1\n",
       "[torch.FloatTensor of size 5x5]"
      ]
     },
     "execution_count": 26,
     "metadata": {},
     "output_type": "execute_result"
    }
   ],
   "source": [
    "m1.squeeze(1)              # 如果m的第一維的長度是1，則合併這個維度，即\n",
    "                          # (A, 1, B) -> (A, B)"
   ]
  },
  {
   "cell_type": "markdown",
   "metadata": {},
   "source": [
    "### 加減法"
   ]
  },
  {
   "cell_type": "code",
   "execution_count": 27,
   "metadata": {},
   "outputs": [
    {
     "data": {
      "text/plain": [
       "\n",
       " 2  0  0  0  0\n",
       " 0  2  0  0  0\n",
       " 0  0  2  0  0\n",
       " 0  0  0  2  0\n",
       " 0  0  0  0  2\n",
       "[torch.FloatTensor of size 5x5]"
      ]
     },
     "execution_count": 27,
     "metadata": {},
     "output_type": "execute_result"
    }
   ],
   "source": [
    "m1 + m2                   # 矩陣element-wise相加，其他基本運算是一樣的"
   ]
  },
  {
   "cell_type": "code",
   "execution_count": 28,
   "metadata": {},
   "outputs": [
    {
     "data": {
      "text/plain": [
       "\n",
       " 0  0  0  0  0\n",
       " 0  0  0  0  0\n",
       " 0  0  0  0  0\n",
       " 0  0  0  0  0\n",
       " 0  0  0  0  0\n",
       "[torch.FloatTensor of size 5x5]"
      ]
     },
     "execution_count": 28,
     "metadata": {},
     "output_type": "execute_result"
    }
   ],
   "source": [
    "m1 - m2                   # 矩陣element-wise相減，其他基本運算是一樣的"
   ]
  },
  {
   "cell_type": "markdown",
   "metadata": {},
   "source": [
    "## 其他重要操作\n",
    "* m.view(5, 3, -1)    # 如果m的元素個數是15的倍數，回傳一個大小為(5, 3, ?)的tensor，問號會自動推算。tensor的資料是連動的。\n",
    "* m.expand(5, 3)      # 將m擴展到(5, 3)的大小\n",
    "\n",
    "* m.cuda()            # 將m搬移到GPU來運算\n",
    "* m.cpu()             # 將m搬移到CPU來運算\n",
    "\n",
    "* torch.from_numpy(n) # 回傳一個tensor，其資料和numpy變數是連動的\n",
    "* m.numpy()           # 回傳一個numpy變數，其資料和tensor是連動的"
   ]
  },
  {
   "cell_type": "code",
   "execution_count": null,
   "metadata": {
    "collapsed": true
   },
   "outputs": [],
   "source": []
  }
 ],
 "metadata": {
  "kernelspec": {
   "display_name": "Python 3.6",
   "language": "python",
   "name": "python36"
  },
  "language_info": {
   "codemirror_mode": {
    "name": "ipython",
    "version": 3
   },
   "file_extension": ".py",
   "mimetype": "text/x-python",
   "name": "python",
   "nbconvert_exporter": "python",
   "pygments_lexer": "ipython3",
   "version": "3.6.3"
  }
 },
 "nbformat": 4,
 "nbformat_minor": 2
}
