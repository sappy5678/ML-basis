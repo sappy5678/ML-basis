{
 "cells": [
  {
   "cell_type": "code",
   "execution_count": 1,
   "metadata": {
    "collapsed": true,
    "nbpresent": {
     "id": "08ffb395-ad8b-42a9-a4b1-f622ab863f07"
    }
   },
   "outputs": [],
   "source": [
    "# 下載資料集\n",
    "# !kg download -c jigsaw-toxic-comment-classification-challenge\n",
    "# !unzip train.csv.zip \n",
    "# !unzip test.csv.zip \n",
    "# !unzip sample_submission.csv.zip "
   ]
  },
  {
   "cell_type": "code",
   "execution_count": 1,
   "metadata": {
    "collapsed": true,
    "nbpresent": {
     "id": "735cac6c-4429-4767-9782-37f89e473137"
    }
   },
   "outputs": [],
   "source": [
    "import pandas as pd\n",
    "\n",
    "train = pd.read_csv('train.csv')\n",
    "test = pd.read_csv('test.csv')"
   ]
  },
  {
   "cell_type": "code",
   "execution_count": 2,
   "metadata": {
    "collapsed": true,
    "nbpresent": {
     "id": "be15bab7-feb7-43bf-ba98-dcaa46e25948"
    }
   },
   "outputs": [],
   "source": [
    "list_classes = [\"toxic\", \"severe_toxic\", \"obscene\", \"threat\", \"insult\", \"identity_hate\"]\n",
    "y = train[list_classes].values\n",
    "list_sentences_train = train[\"comment_text\"]\n",
    "list_sentences_test = test[\"comment_text\"]"
   ]
  },
  {
   "cell_type": "code",
   "execution_count": 3,
   "metadata": {
    "nbpresent": {
     "id": "2befa415-28c6-4389-a16d-719d8f949d8b"
    }
   },
   "outputs": [
    {
     "name": "stderr",
     "output_type": "stream",
     "text": [
      "/home/dllab/anaconda3/envs/DL3/lib/python3.6/site-packages/h5py/__init__.py:36: FutureWarning: Conversion of the second argument of issubdtype from `float` to `np.floating` is deprecated. In future, it will be treated as `np.float64 == np.dtype(float).type`.\n",
      "  from ._conv import register_converters as _register_converters\n",
      "Using TensorFlow backend.\n",
      "/home/dllab/anaconda3/envs/DL3/lib/python3.6/importlib/_bootstrap.py:219: RuntimeWarning: compiletime version 3.5 of module 'tensorflow.python.framework.fast_tensor_util' does not match runtime version 3.6\n",
      "  return f(*args, **kwds)\n"
     ]
    }
   ],
   "source": [
    "from keras.preprocessing.text import Tokenizer\n",
    "from keras.preprocessing.sequence import pad_sequences\n",
    "\n",
    "max_features = 50000\n",
    "tokenizer = Tokenizer(num_words=max_features)\n",
    "tokenizer.fit_on_texts(list(list_sentences_train))\n",
    "list_tokenized_train = tokenizer.texts_to_sequences(list_sentences_train)\n",
    "list_tokenized_test = tokenizer.texts_to_sequences(list_sentences_test)"
   ]
  },
  {
   "cell_type": "code",
   "execution_count": 4,
   "metadata": {
    "nbpresent": {
     "id": "2f05fe8f-ea69-41b0-a2b3-a6a414e97555"
    }
   },
   "outputs": [
    {
     "data": {
      "text/plain": [
       "[[688,\n",
       "  75,\n",
       "  1,\n",
       "  126,\n",
       "  130,\n",
       "  177,\n",
       "  29,\n",
       "  672,\n",
       "  4511,\n",
       "  12052,\n",
       "  1116,\n",
       "  86,\n",
       "  331,\n",
       "  51,\n",
       "  2278,\n",
       "  11448,\n",
       "  50,\n",
       "  6864,\n",
       "  15,\n",
       "  60,\n",
       "  2756,\n",
       "  148,\n",
       "  7,\n",
       "  2937,\n",
       "  34,\n",
       "  117,\n",
       "  1221,\n",
       "  15190,\n",
       "  2825,\n",
       "  4,\n",
       "  45,\n",
       "  59,\n",
       "  244,\n",
       "  1,\n",
       "  365,\n",
       "  31,\n",
       "  1,\n",
       "  38,\n",
       "  27,\n",
       "  143,\n",
       "  73,\n",
       "  3462,\n",
       "  89,\n",
       "  3085,\n",
       "  4583,\n",
       "  2273,\n",
       "  985]]"
      ]
     },
     "execution_count": 4,
     "metadata": {},
     "output_type": "execute_result"
    }
   ],
   "source": [
    "list_tokenized_train[:1]"
   ]
  },
  {
   "cell_type": "code",
   "execution_count": 5,
   "metadata": {
    "collapsed": true,
    "nbpresent": {
     "id": "1910830c-d0e8-448f-807f-8ba9749551d6"
    }
   },
   "outputs": [],
   "source": [
    "maxlen = 200\n",
    "X_t = pad_sequences(list_tokenized_train, maxlen=maxlen)\n",
    "X_te = pad_sequences(list_tokenized_test, maxlen=maxlen)"
   ]
  },
  {
   "cell_type": "code",
   "execution_count": 6,
   "metadata": {
    "collapsed": true,
    "nbpresent": {
     "id": "b086f855-5d04-47ef-9570-eca9a4cbd7e0"
    }
   },
   "outputs": [],
   "source": [
    "totalNumWords = [len(one_comment) for one_comment in list_tokenized_train]"
   ]
  },
  {
   "cell_type": "code",
   "execution_count": 7,
   "metadata": {
    "nbpresent": {
     "id": "2fd443fe-3962-43dc-a9c7-dc268b993914"
    }
   },
   "outputs": [
    {
     "data": {
      "image/png": "[encoded data removed]",
      "text/plain": [
       "<matplotlib.figure.Figure at 0x7f05d41f2240>"
      ]
     },
     "metadata": {},
     "output_type": "display_data"
    }
   ],
   "source": [
    "import numpy as np\n",
    "import matplotlib.pyplot as plt\n",
    "%matplotlib inline\n",
    "\n",
    "plt.hist(totalNumWords,bins = np.arange(0,410,10))#[0,50,100,150,200,250,300,350,400])#,450,500,550,600,650,700,750,800,850,900])\n",
    "plt.show()"
   ]
  },
  {
   "cell_type": "code",
   "execution_count": 76,
   "metadata": {
    "collapsed": true,
    "nbpresent": {
     "id": "102922f5-659b-402f-b54f-45d90cf848fa"
    }
   },
   "outputs": [],
   "source": [
    "from keras.layers import Dense, Input, LSTM, Embedding, Dropout, Activation,CuDNNLSTM,CuDNNGRU,GRU\n",
    "from keras.layers import Bidirectional, GlobalMaxPool1D,BatchNormalization\n",
    "from keras.models import Model\n",
    "from keras import initializers, regularizers, constraints, optimizers, layers\n",
    "\n",
    "\n",
    "inp = Input(shape=(maxlen, )) #maxlen=200 as defined earlier"
   ]
  },
  {
   "cell_type": "code",
   "execution_count": 77,
   "metadata": {
    "collapsed": true,
    "nbpresent": {
     "id": "2319deb5-6c3a-4c7c-9127-de0c6e681208"
    }
   },
   "outputs": [],
   "source": [
    "embed_size = 1024\n",
    "x = Embedding(max_features, embed_size)(inp)"
   ]
  },
  {
   "cell_type": "code",
   "execution_count": 78,
   "metadata": {
    "collapsed": true,
    "nbpresent": {
     "id": "be792a8b-30d6-430f-a6cf-d1eb1fc7db58"
    }
   },
   "outputs": [],
   "source": [
    "x = Bidirectional(CuDNNLSTM(120  , return_sequences=True,name='lstm_layer'))(x)"
   ]
  },
  {
   "cell_type": "code",
   "execution_count": 79,
   "metadata": {
    "collapsed": true
   },
   "outputs": [],
   "source": [
    "x = Dense(60 , activation=\"elu\")(x)"
   ]
  },
  {
   "cell_type": "code",
   "execution_count": 80,
   "metadata": {
    "collapsed": true,
    "nbpresent": {
     "id": "f53e8c93-71d0-453f-8680-3ccf9fd8231b"
    }
   },
   "outputs": [],
   "source": [
    "x = Bidirectional(CuDNNGRU(60  , return_sequences=True,name='lstm_layer'))(x)"
   ]
  },
  {
   "cell_type": "code",
   "execution_count": 81,
   "metadata": {
    "collapsed": true,
    "nbpresent": {
     "id": "cced431b-1698-4c65-b5f8-9ec2f2ae8c31"
    }
   },
   "outputs": [],
   "source": [
    "x = GlobalMaxPool1D()(x)"
   ]
  },
  {
   "cell_type": "code",
   "execution_count": 82,
   "metadata": {
    "collapsed": true,
    "nbpresent": {
     "id": "8f6247f3-d9aa-434b-ac74-e956faa6fcae"
    }
   },
   "outputs": [],
   "source": [
    "x = Dropout(0.1)(x)"
   ]
  },
  {
   "cell_type": "code",
   "execution_count": 83,
   "metadata": {
    "collapsed": true,
    "nbpresent": {
     "id": "26c26e11-fa6d-4afc-bc55-eb3dd4bb055f"
    }
   },
   "outputs": [],
   "source": [
    "# x = BatchNormalization()(x) "
   ]
  },
  {
   "cell_type": "code",
   "execution_count": 84,
   "metadata": {
    "collapsed": true,
    "nbpresent": {
     "id": "6f830fe6-924b-418c-a2ec-3d777a8996b7"
    }
   },
   "outputs": [],
   "source": [
    "x = Dense(240 , activation=\"elu\")(x)"
   ]
  },
  {
   "cell_type": "code",
   "execution_count": 85,
   "metadata": {
    "collapsed": true,
    "nbpresent": {
     "id": "bfd5f267-aa63-4eba-abb6-56571afbb77a"
    }
   },
   "outputs": [],
   "source": [
    "x = Dropout(0.1)(x)"
   ]
  },
  {
   "cell_type": "code",
   "execution_count": 86,
   "metadata": {
    "collapsed": true,
    "nbpresent": {
     "id": "2e96de0e-7660-4df5-b6c3-4fa6d11f5e46"
    }
   },
   "outputs": [],
   "source": [
    "# x = Dense(240 , activation=\"elu\")(x)"
   ]
  },
  {
   "cell_type": "code",
   "execution_count": 87,
   "metadata": {
    "collapsed": true,
    "nbpresent": {
     "id": "7560397b-036a-46a7-a044-640ec8311d30"
    }
   },
   "outputs": [],
   "source": [
    "x = BatchNormalization()(x) "
   ]
  },
  {
   "cell_type": "code",
   "execution_count": 88,
   "metadata": {
    "collapsed": true
   },
   "outputs": [],
   "source": [
    "x = Dense(60 , activation=\"elu\")(x)"
   ]
  },
  {
   "cell_type": "code",
   "execution_count": 89,
   "metadata": {
    "collapsed": true,
    "nbpresent": {
     "id": "712c3627-3d66-448e-bd3b-80e3048d5c7d"
    }
   },
   "outputs": [],
   "source": [
    "x = Dropout(0.1)(x)"
   ]
  },
  {
   "cell_type": "code",
   "execution_count": 90,
   "metadata": {
    "collapsed": true,
    "nbpresent": {
     "id": "1a00f7d2-e7e6-4fd1-9720-7e46164df26c"
    }
   },
   "outputs": [],
   "source": [
    "x = BatchNormalization()(x) "
   ]
  },
  {
   "cell_type": "code",
   "execution_count": 91,
   "metadata": {
    "collapsed": true,
    "nbpresent": {
     "id": "b7beb40f-4ecf-470e-a3c7-7c352ba4d871"
    }
   },
   "outputs": [],
   "source": [
    "x = Dense(6, activation=\"sigmoid\")(x)"
   ]
  },
  {
   "cell_type": "code",
   "execution_count": 92,
   "metadata": {
    "collapsed": true,
    "nbpresent": {
     "id": "46fb59e1-29f9-40d8-8e74-b0498cf630a6"
    }
   },
   "outputs": [],
   "source": [
    "model = Model(inputs=inp, outputs=x)\n",
    "model.compile(loss='binary_crossentropy',\n",
    "                  optimizer='adam',\n",
    "                  metrics=['accuracy'])"
   ]
  },
  {
   "cell_type": "code",
   "execution_count": 93,
   "metadata": {
    "nbpresent": {
     "id": "0d84bcea-7734-42c1-9a85-d35f11f115a4"
    }
   },
   "outputs": [
    {
     "name": "stdout",
     "output_type": "stream",
     "text": [
      "Train on 143613 samples, validate on 15958 samples\n",
      "Epoch 1/2\n",
      "143613/143613 [==============================] - 638s 4ms/step - loss: 0.0802 - acc: 0.9714 - val_loss: 0.0560 - val_acc: 0.9799\n",
      "Epoch 2/2\n",
      "143613/143613 [==============================] - 636s 4ms/step - loss: 0.0451 - acc: 0.9833 - val_loss: 0.0476 - val_acc: 0.9822\n"
     ]
    },
    {
     "data": {
      "text/plain": [
       "<keras.callbacks.History at 0x7f052a32c668>"
      ]
     },
     "execution_count": 93,
     "metadata": {},
     "output_type": "execute_result"
    }
   ],
   "source": [
    "\n",
    "batch_size = 32\n",
    "epochs = 2\n",
    "# model.fit(X_t,y, batch_size=batch_size, epochs=epochs, validation_split=0.1)\n",
    "model.fit(X_t,y, batch_size=batch_size, epochs=epochs, validation_split=0.1,shuffle=True)"
   ]
  },
  {
   "cell_type": "code",
   "execution_count": 94,
   "metadata": {
    "nbpresent": {
     "id": "8e75b514-d13f-4342-ad45-88bee068f5eb"
    }
   },
   "outputs": [
    {
     "name": "stdout",
     "output_type": "stream",
     "text": [
      "_________________________________________________________________\n",
      "Layer (type)                 Output Shape              Param #   \n",
      "=================================================================\n",
      "input_4 (InputLayer)         (None, 200)               0         \n",
      "_________________________________________________________________\n",
      "embedding_4 (Embedding)      (None, 200, 1024)         51200000  \n",
      "_________________________________________________________________\n",
      "bidirectional_7 (Bidirection (None, 200, 240)          1100160   \n",
      "_________________________________________________________________\n",
      "dense_13 (Dense)             (None, 200, 60)           14460     \n",
      "_________________________________________________________________\n",
      "bidirectional_8 (Bidirection (None, 200, 120)          43920     \n",
      "_________________________________________________________________\n",
      "global_max_pooling1d_4 (Glob (None, 120)               0         \n",
      "_________________________________________________________________\n",
      "dropout_6 (Dropout)          (None, 120)               0         \n",
      "_________________________________________________________________\n",
      "dense_14 (Dense)             (None, 240)               29040     \n",
      "_________________________________________________________________\n",
      "dropout_7 (Dropout)          (None, 240)               0         \n",
      "_________________________________________________________________\n",
      "batch_normalization_7 (Batch (None, 240)               960       \n",
      "_________________________________________________________________\n",
      "dense_15 (Dense)             (None, 60)                14460     \n",
      "_________________________________________________________________\n",
      "dropout_8 (Dropout)          (None, 60)                0         \n",
      "_________________________________________________________________\n",
      "batch_normalization_8 (Batch (None, 60)                240       \n",
      "_________________________________________________________________\n",
      "dense_16 (Dense)             (None, 6)                 366       \n",
      "=================================================================\n",
      "Total params: 52,403,606\n",
      "Trainable params: 52,403,006\n",
      "Non-trainable params: 600\n",
      "_________________________________________________________________\n"
     ]
    }
   ],
   "source": [
    "model.summary()"
   ]
  },
  {
   "cell_type": "code",
   "execution_count": 95,
   "metadata": {
    "collapsed": true,
    "nbpresent": {
     "id": "c703d71b-21f7-4c24-bdef-3c3016290733"
    }
   },
   "outputs": [],
   "source": [
    "classes = model.predict(X_te, batch_size=256)"
   ]
  },
  {
   "cell_type": "code",
   "execution_count": 96,
   "metadata": {
    "nbpresent": {
     "id": "1b31485f-66c1-49b1-bc0b-50fd50c8fc16"
    }
   },
   "outputs": [
    {
     "name": "stdout",
     "output_type": "stream",
     "text": [
      "[[9.84587908e-01 1.93819880e-01 8.44859362e-01 9.83614251e-02\n",
      "  8.82458091e-01 2.80203313e-01]\n",
      " [3.86767648e-03 5.52292986e-05 4.84663527e-04 1.19539516e-04\n",
      "  6.47081470e-04 2.15047199e-04]\n",
      " [1.95417069e-02 1.78275222e-04 2.10775738e-03 3.91555892e-04\n",
      "  2.60336837e-03 5.88771480e-04]\n",
      " ...\n",
      " [3.58493906e-03 1.38608521e-04 1.09755842e-03 6.67086351e-05\n",
      "  3.32206546e-04 2.68342352e-04]\n",
      " [1.85083263e-04 1.58764433e-05 5.66037379e-05 7.94961397e-06\n",
      "  1.55539965e-05 3.09336101e-05]\n",
      " [9.56885338e-01 5.88972345e-02 7.51349628e-01 2.05774233e-02\n",
      "  6.31780088e-01 6.73645586e-02]]\n"
     ]
    }
   ],
   "source": [
    "print(classes)"
   ]
  },
  {
   "cell_type": "code",
   "execution_count": 97,
   "metadata": {
    "nbpresent": {
     "id": "e50e53f6-44ec-444a-9a56-21a86cb031c9"
    }
   },
   "outputs": [
    {
     "name": "stdout",
     "output_type": "stream",
     "text": [
      "                      id     toxic  severe_toxic   obscene    threat  \\\n",
      "0       00001cee341fdb12  0.984588      0.193820  0.844859  0.098361   \n",
      "1       0000247867823ef7  0.003868      0.000055  0.000485  0.000120   \n",
      "2       00013b17ad220c46  0.019542      0.000178  0.002108  0.000392   \n",
      "3       00017563c3f7919a  0.007751      0.000214  0.001441  0.000238   \n",
      "4       00017695ad8997eb  0.002461      0.000041  0.000380  0.000081   \n",
      "5       0001ea8717f6de06  0.005126      0.000059  0.000588  0.000128   \n",
      "6       00024115d4cbde0f  0.018397      0.000261  0.002201  0.000355   \n",
      "7       000247e83dcc1211  0.540473      0.004564  0.039246  0.011931   \n",
      "8       00025358d4737918  0.020602      0.000176  0.001912  0.000132   \n",
      "9       00026d1092fe71cc  0.000605      0.000040  0.000096  0.000055   \n",
      "10      0002eadc3b301559  0.467823      0.005098  0.238523  0.000818   \n",
      "11      0002f87b16116a7f  0.110049      0.001333  0.070486  0.000315   \n",
      "12      0003806b11932181  0.000208      0.000021  0.000081  0.000009   \n",
      "13      0003e1cccfd5a40a  0.003325      0.000100  0.000897  0.000048   \n",
      "14      00059ace3e3e9a53  0.000165      0.000018  0.000062  0.000008   \n",
      "15      000634272d0d44eb  0.005378      0.000063  0.000549  0.000144   \n",
      "16      000663aff0fffc80  0.365455      0.002402  0.020965  0.005959   \n",
      "17      000689dd34e20979  0.002483      0.000043  0.000351  0.000083   \n",
      "18      000834769115370c  0.000317      0.000027  0.000114  0.000012   \n",
      "19      000844b52dee5f3f  0.011454      0.000116  0.001196  0.000269   \n",
      "20      00084da5d4ead7aa  0.003466      0.000049  0.000557  0.000091   \n",
      "21      00091c35fa9d0465  0.435240      0.003442  0.063377  0.004704   \n",
      "22      000968ce11f5ee34  0.120951      0.000472  0.006252  0.001150   \n",
      "23      0009734200a85047  0.000176      0.000015  0.000056  0.000007   \n",
      "24      00097b6214686db5  0.276141      0.001691  0.042027  0.001909   \n",
      "25      0009aef4bd9e1697  0.000243      0.000019  0.000064  0.000010   \n",
      "26      000a02d807ae0254  0.028374      0.000187  0.001733  0.000347   \n",
      "27      000a6c6d4e89b9bc  0.019422      0.000144  0.001432  0.000388   \n",
      "28      000bafe2080bba82  0.489584      0.002802  0.025259  0.008594   \n",
      "29      000bf0a9894b2807  0.001811      0.000072  0.000541  0.000035   \n",
      "...                  ...       ...           ...       ...       ...   \n",
      "153134  fff3ae2e177b6bb3  0.002354      0.000089  0.000466  0.000079   \n",
      "153135  fff4109e837f7acc  0.001210      0.000027  0.000232  0.000050   \n",
      "153136  fff4373a81ef9f2a  0.000387      0.000029  0.000140  0.000012   \n",
      "153137  fff460574ddbcd80  0.014941      0.000118  0.000852  0.000270   \n",
      "153138  fff4fc0a1555be5c  0.005859      0.000074  0.000553  0.000168   \n",
      "153139  fff5b9bb944d634c  0.105883      0.000495  0.005613  0.001325   \n",
      "153140  fff5c4a77fe0c05f  0.002605      0.000075  0.000359  0.000151   \n",
      "153141  fff5fb61bd637c82  0.000910      0.000053  0.000164  0.000060   \n",
      "153142  fff69311f306df44  0.055886      0.000352  0.003356  0.000783   \n",
      "153143  fff6ad63666fb304  0.936482      0.060430  0.854782  0.003202   \n",
      "153144  fff7159b3ee95618  0.005785      0.000065  0.000600  0.000148   \n",
      "153145  fff718ffe5f05559  0.003190      0.000110  0.000956  0.000044   \n",
      "153146  fff7fc22a0cdccd3  0.000115      0.000012  0.000037  0.000006   \n",
      "153147  fff83b80284d8440  0.007118      0.000079  0.000812  0.000165   \n",
      "153148  fff8ef316d0c6990  0.001522      0.000031  0.000283  0.000057   \n",
      "153149  fff8f521a7dbcd47  0.828623      0.011249  0.113095  0.038315   \n",
      "153150  fff8f64043129fa2  0.001384      0.000073  0.000469  0.000038   \n",
      "153151  fff9d70fe0722906  0.563745      0.007053  0.409467  0.000583   \n",
      "153152  fff9fa508f400ee6  0.353889      0.003635  0.086998  0.001801   \n",
      "153153  fffa3fae1890b40a  0.645160      0.012511  0.426248  0.002384   \n",
      "153154  fffa8a11c4378854  0.516956      0.003906  0.045890  0.009557   \n",
      "153155  fffac2a094c8e0e2  0.962616      0.134116  0.900974  0.010342   \n",
      "153156  fffb5451268fb5ba  0.003909      0.000088  0.000473  0.000169   \n",
      "153157  fffc2b34bbe61c8d  0.000861      0.000033  0.000146  0.000070   \n",
      "153158  fffc489742ffe69b  0.753117      0.011456  0.155442  0.022907   \n",
      "153159  fffcd0960ee309b5  0.676841      0.009445  0.358577  0.001941   \n",
      "153160  fffd7a9a6eb32c16  0.034512      0.000176  0.001679  0.000378   \n",
      "153161  fffda9e8d6fafa9e  0.003585      0.000139  0.001098  0.000067   \n",
      "153162  fffe8f1340a79fc2  0.000185      0.000016  0.000057  0.000008   \n",
      "153163  ffffce3fb183ee80  0.956885      0.058897  0.751350  0.020577   \n",
      "\n",
      "          insult  identity_hate  \n",
      "0       0.882458       0.280203  \n",
      "1       0.000647       0.000215  \n",
      "2       0.002603       0.000589  \n",
      "3       0.001012       0.000816  \n",
      "4       0.000442       0.000140  \n",
      "5       0.000749       0.000212  \n",
      "6       0.002417       0.001359  \n",
      "7       0.124583       0.023382  \n",
      "8       0.001745       0.000728  \n",
      "9       0.000072       0.000148  \n",
      "10      0.052194       0.003946  \n",
      "11      0.012786       0.002122  \n",
      "12      0.000019       0.000034  \n",
      "13      0.000284       0.000223  \n",
      "14      0.000015       0.000030  \n",
      "15      0.000781       0.000235  \n",
      "16      0.061473       0.010896  \n",
      "17      0.000428       0.000159  \n",
      "18      0.000028       0.000046  \n",
      "19      0.001643       0.000368  \n",
      "20      0.000546       0.000147  \n",
      "21      0.101307       0.016355  \n",
      "22      0.013737       0.002953  \n",
      "23      0.000015       0.000029  \n",
      "24      0.051801       0.008633  \n",
      "25      0.000020       0.000038  \n",
      "26      0.002852       0.001263  \n",
      "27      0.002300       0.000551  \n",
      "28      0.098335       0.018497  \n",
      "29      0.000150       0.000146  \n",
      "...          ...            ...  \n",
      "153134  0.000230       0.000270  \n",
      "153135  0.000246       0.000101  \n",
      "153136  0.000033       0.000049  \n",
      "153137  0.001510       0.000711  \n",
      "153138  0.000833       0.000316  \n",
      "153139  0.012132       0.002603  \n",
      "153140  0.000392       0.000384  \n",
      "153141  0.000096       0.000170  \n",
      "153142  0.006187       0.002053  \n",
      "153143  0.371115       0.013131  \n",
      "153144  0.000846       0.000252  \n",
      "153145  0.000268       0.000201  \n",
      "153146  0.000010       0.000022  \n",
      "153147  0.001009       0.000271  \n",
      "153148  0.000292       0.000117  \n",
      "153149  0.349883       0.074529  \n",
      "153150  0.000125       0.000143  \n",
      "153151  0.057929       0.003270  \n",
      "153152  0.054053       0.006374  \n",
      "153153  0.190229       0.015919  \n",
      "153154  0.130564       0.024603  \n",
      "153155  0.650126       0.045879  \n",
      "153156  0.000567       0.000411  \n",
      "153157  0.000160       0.000160  \n",
      "153158  0.299818       0.057409  \n",
      "153159  0.119281       0.007716  \n",
      "153160  0.003297       0.001286  \n",
      "153161  0.000332       0.000268  \n",
      "153162  0.000016       0.000031  \n",
      "153163  0.631780       0.067365  \n",
      "\n",
      "[153164 rows x 7 columns]\n"
     ]
    }
   ],
   "source": [
    "# submission = pd.DataFrame({\n",
    "#     \"id\": test[\"id\"],\n",
    "#     list_classes: classes})\n",
    "# list_classes.insert(0,\"id\")\n",
    "# list_classes.remove(\"id\")\n",
    "# print(list_classes)\n",
    "# classes[:,:-1] = test[\"id\"]\n",
    "# print(classes[:,:0] )\n",
    "# a = np.append(test[\"id\"],classes,axis=1)\n",
    "# classes[:,:0] = (np.array(test[\"id\"]))\n",
    "# print(a)\n",
    "submission = pd.DataFrame(\n",
    "      classes, columns=list_classes)\n",
    "\n",
    "\n",
    "submission[\"id\"] = test[\"id\"]\n",
    "\n",
    "submission = submission[[\"id\",\"toxic\", \"severe_toxic\", \"obscene\", \"threat\", \"insult\", \"identity_hate\"]]\n",
    "print(submission)\n",
    "submission.to_csv('titanic_lin.csv', index=False)"
   ]
  },
  {
   "cell_type": "code",
   "execution_count": 98,
   "metadata": {
    "nbpresent": {
     "id": "8bc0a7cb-f617-43f2-8505-ee906a4946da"
    }
   },
   "outputs": [
    {
     "name": "stdout",
     "output_type": "stream",
     "text": [
      "0.9721\n"
     ]
    }
   ],
   "source": [
    "!kg submit titanic_lin.csv -c jigsaw-toxic-comment-classification-challenge -m \"My First Keras Baseline\"  "
   ]
  },
  {
   "cell_type": "code",
   "execution_count": null,
   "metadata": {
    "collapsed": true,
    "nbpresent": {
     "id": "a55a9888-fcc5-411e-80e4-f1000be094dc"
    }
   },
   "outputs": [],
   "source": []
  },
  {
   "cell_type": "code",
   "execution_count": null,
   "metadata": {
    "collapsed": true,
    "nbpresent": {
     "id": "eabc0f0e-e89d-4db7-ae23-39b062536b0d"
    }
   },
   "outputs": [],
   "source": []
  },
  {
   "cell_type": "code",
   "execution_count": null,
   "metadata": {
    "collapsed": true
   },
   "outputs": [],
   "source": []
  }
 ],
 "metadata": {
  "kernelspec": {
   "display_name": "Python [conda env:DL3]",
   "language": "python",
   "name": "conda-env-DL3-py"
  },
  "language_info": {
   "codemirror_mode": {
    "name": "ipython",
    "version": 3
   },
   "file_extension": ".py",
   "mimetype": "text/x-python",
   "name": "python",
   "nbconvert_exporter": "python",
   "pygments_lexer": "ipython3",
   "version": "3.6.4"
  },
  "nbpresent": {
   "slides": {
    "1f6b3422-b341-4905-a13e-f9f8cdb711c9": {
     "id": "1f6b3422-b341-4905-a13e-f9f8cdb711c9",
     "prev": "a4d55ed9-226d-41ef-a036-ad7197b2221b",
     "regions": {
      "9811c6e5-0fa0-4ad6-9fbd-2085602098e7": {
       "attrs": {
        "height": 0.8,
        "width": 0.8,
        "x": 0.1,
        "y": 0.1
       },
       "content": {
        "cell": "26c26e11-fa6d-4afc-bc55-eb3dd4bb055f",
        "part": "whole"
       },
       "id": "9811c6e5-0fa0-4ad6-9fbd-2085602098e7"
      }
     }
    },
    "2bac4af2-3ee0-463b-9a2d-09c2c6fd3ab3": {
     "id": "2bac4af2-3ee0-463b-9a2d-09c2c6fd3ab3",
     "prev": "3315d087-8f88-47cf-99be-2d1ec5ba83fe",
     "regions": {
      "147b442a-d681-4f69-9b8e-159e3d1b6487": {
       "attrs": {
        "height": 0.8,
        "width": 0.8,
        "x": 0.1,
        "y": 0.1
       },
       "content": {
        "cell": "be792a8b-30d6-430f-a6cf-d1eb1fc7db58",
        "part": "whole"
       },
       "id": "147b442a-d681-4f69-9b8e-159e3d1b6487"
      }
     }
    },
    "3315d087-8f88-47cf-99be-2d1ec5ba83fe": {
     "id": "3315d087-8f88-47cf-99be-2d1ec5ba83fe",
     "prev": "a6360976-e47f-48c5-95b7-f387f8a8df4e",
     "regions": {
      "4b09b272-6b64-44ef-a424-1579d7c00233": {
       "attrs": {
        "height": 0.8,
        "width": 0.8,
        "x": 0.1,
        "y": 0.1
       },
       "content": {
        "cell": "2319deb5-6c3a-4c7c-9127-de0c6e681208",
        "part": "whole"
       },
       "id": "4b09b272-6b64-44ef-a424-1579d7c00233"
      }
     }
    },
    "34bdba8f-e90f-4a41-9127-47fdbac84280": {
     "id": "34bdba8f-e90f-4a41-9127-47fdbac84280",
     "prev": "ff4a1fe2-5ed0-4557-b9d4-69022b9f43d4",
     "regions": {
      "ae40d7d2-87a1-49a7-9a2c-0c87330efe60": {
       "attrs": {
        "height": 0.8,
        "width": 0.8,
        "x": 0.1,
        "y": 0.1
       },
       "content": {
        "cell": "1b31485f-66c1-49b1-bc0b-50fd50c8fc16",
        "part": "whole"
       },
       "id": "ae40d7d2-87a1-49a7-9a2c-0c87330efe60"
      }
     }
    },
    "4e876a5e-8c8f-4531-9c58-ef1367ec8d1c": {
     "id": "4e876a5e-8c8f-4531-9c58-ef1367ec8d1c",
     "prev": "a0f98d69-6e91-4591-9b6e-70318f8595b9",
     "regions": {
      "81af5c8a-763c-45f0-bca9-7e6fe7948b20": {
       "attrs": {
        "height": 0.8,
        "width": 0.8,
        "x": 0.1,
        "y": 0.1
       },
       "content": {
        "cell": "8e75b514-d13f-4342-ad45-88bee068f5eb",
        "part": "whole"
       },
       "id": "81af5c8a-763c-45f0-bca9-7e6fe7948b20"
      }
     }
    },
    "54884cde-d5f7-4300-a8f6-3b1dfdc41aa4": {
     "id": "54884cde-d5f7-4300-a8f6-3b1dfdc41aa4",
     "prev": "a6e96f0e-18d6-4b7c-b614-21fab2e36d4d",
     "regions": {
      "c900715f-cb2f-4978-b1cd-820936c89356": {
       "attrs": {
        "height": 0.8,
        "width": 0.8,
        "x": 0.1,
        "y": 0.1
       },
       "content": {
        "cell": "eabc0f0e-e89d-4db7-ae23-39b062536b0d",
        "part": "whole"
       },
       "id": "c900715f-cb2f-4978-b1cd-820936c89356"
      }
     }
    },
    "5679b6f9-6ae7-4e12-96fa-e9aba37a556b": {
     "id": "5679b6f9-6ae7-4e12-96fa-e9aba37a556b",
     "prev": "828bb31d-ccfe-4b6b-ac9d-e3a4aa3c9aac",
     "regions": {
      "906f3a14-cd3c-40e6-8b6f-1d250d6fadfb": {
       "attrs": {
        "height": 0.8,
        "width": 0.8,
        "x": 0.1,
        "y": 0.1
       },
       "content": {
        "cell": "8bc0a7cb-f617-43f2-8505-ee906a4946da",
        "part": "whole"
       },
       "id": "906f3a14-cd3c-40e6-8b6f-1d250d6fadfb"
      }
     }
    },
    "570aa7fb-b4cd-45ec-b0a7-cc90bca58e76": {
     "id": "570aa7fb-b4cd-45ec-b0a7-cc90bca58e76",
     "prev": "1f6b3422-b341-4905-a13e-f9f8cdb711c9",
     "regions": {
      "22bc5056-0d75-44ae-8029-daba02dfe831": {
       "attrs": {
        "height": 0.8,
        "width": 0.8,
        "x": 0.1,
        "y": 0.1
       },
       "content": {
        "cell": "6f830fe6-924b-418c-a2ec-3d777a8996b7",
        "part": "whole"
       },
       "id": "22bc5056-0d75-44ae-8029-daba02dfe831"
      }
     }
    },
    "5894d3fc-d4a1-4a18-ac4d-bfb6a7061ebc": {
     "id": "5894d3fc-d4a1-4a18-ac4d-bfb6a7061ebc",
     "prev": "ff3dfd6d-e805-48b0-9ee6-73229745f75d",
     "regions": {
      "d1bb604b-5096-4b39-a88c-45e22acfbc6f": {
       "attrs": {
        "height": 0.8,
        "width": 0.8,
        "x": 0.1,
        "y": 0.1
       },
       "content": {
        "cell": "7560397b-036a-46a7-a044-640ec8311d30",
        "part": "whole"
       },
       "id": "d1bb604b-5096-4b39-a88c-45e22acfbc6f"
      }
     }
    },
    "667f1a34-d659-400b-ba54-bc7d77dbc453": {
     "id": "667f1a34-d659-400b-ba54-bc7d77dbc453",
     "prev": "570aa7fb-b4cd-45ec-b0a7-cc90bca58e76",
     "regions": {
      "fd085f8f-c1da-44e8-ac4f-c7fac2fb3875": {
       "attrs": {
        "height": 0.8,
        "width": 0.8,
        "x": 0.1,
        "y": 0.1
       },
       "content": {
        "cell": "bfd5f267-aa63-4eba-abb6-56571afbb77a",
        "part": "whole"
       },
       "id": "fd085f8f-c1da-44e8-ac4f-c7fac2fb3875"
      }
     }
    },
    "6fc8595d-5960-4711-8455-94de0e7cbe81": {
     "id": "6fc8595d-5960-4711-8455-94de0e7cbe81",
     "prev": "81e6a30e-42e2-4022-a39e-c8d292d32a9f",
     "regions": {
      "abfaecc8-4550-4768-9228-04f45b055ed9": {
       "attrs": {
        "height": 0.8,
        "width": 0.8,
        "x": 0.1,
        "y": 0.1
       },
       "content": {
        "cell": "cced431b-1698-4c65-b5f8-9ec2f2ae8c31",
        "part": "whole"
       },
       "id": "abfaecc8-4550-4768-9228-04f45b055ed9"
      }
     }
    },
    "77322cfa-3f1b-4f2f-9da4-543dc7c1e3f2": {
     "id": "77322cfa-3f1b-4f2f-9da4-543dc7c1e3f2",
     "prev": "667f1a34-d659-400b-ba54-bc7d77dbc453",
     "regions": {
      "7f116da1-83b6-42ce-9f5e-fc870dcc463d": {
       "attrs": {
        "height": 0.8,
        "width": 0.8,
        "x": 0.1,
        "y": 0.1
       },
       "content": null,
       "id": "7f116da1-83b6-42ce-9f5e-fc870dcc463d"
      }
     }
    },
    "78dcadc4-3e97-44e3-acf7-d8c3b5cf30a3": {
     "id": "78dcadc4-3e97-44e3-acf7-d8c3b5cf30a3",
     "prev": "de6e20a0-c881-4728-b6bf-2ba30dd8bad9",
     "regions": {
      "bb37df17-cf04-464b-bfcf-3f27bf92f7bf": {
       "attrs": {
        "height": 0.8,
        "width": 0.8,
        "x": 0.1,
        "y": 0.1
       },
       "content": {
        "cell": "0d84bcea-7734-42c1-9a85-d35f11f115a4",
        "part": "whole"
       },
       "id": "bb37df17-cf04-464b-bfcf-3f27bf92f7bf"
      }
     }
    },
    "81e6a30e-42e2-4022-a39e-c8d292d32a9f": {
     "id": "81e6a30e-42e2-4022-a39e-c8d292d32a9f",
     "prev": "2bac4af2-3ee0-463b-9a2d-09c2c6fd3ab3",
     "regions": {
      "0583b363-7073-4bab-949b-e956c99391c7": {
       "attrs": {
        "height": 0.8,
        "width": 0.8,
        "x": 0.1,
        "y": 0.1
       },
       "content": {
        "cell": "f53e8c93-71d0-453f-8680-3ccf9fd8231b",
        "part": "whole"
       },
       "id": "0583b363-7073-4bab-949b-e956c99391c7"
      }
     }
    },
    "828bb31d-ccfe-4b6b-ac9d-e3a4aa3c9aac": {
     "id": "828bb31d-ccfe-4b6b-ac9d-e3a4aa3c9aac",
     "prev": "34bdba8f-e90f-4a41-9127-47fdbac84280",
     "regions": {
      "2cc4d4ec-dd9d-4509-8760-e12ff64cbac1": {
       "attrs": {
        "height": 0.8,
        "width": 0.8,
        "x": 0.1,
        "y": 0.1
       },
       "content": {
        "cell": "e50e53f6-44ec-444a-9a56-21a86cb031c9",
        "part": "whole"
       },
       "id": "2cc4d4ec-dd9d-4509-8760-e12ff64cbac1"
      }
     }
    },
    "a0f98d69-6e91-4591-9b6e-70318f8595b9": {
     "id": "a0f98d69-6e91-4591-9b6e-70318f8595b9",
     "prev": "78dcadc4-3e97-44e3-acf7-d8c3b5cf30a3",
     "regions": {
      "c1ce358a-5469-4107-b4fe-1738ca42fce7": {
       "attrs": {
        "height": 0.8,
        "width": 0.8,
        "x": 0.1,
        "y": 0.1
       },
       "content": {
        "cell": "2531c5b9-eaea-4167-a705-348b04420b4e",
        "part": "whole"
       },
       "id": "c1ce358a-5469-4107-b4fe-1738ca42fce7"
      }
     }
    },
    "a4d55ed9-226d-41ef-a036-ad7197b2221b": {
     "id": "a4d55ed9-226d-41ef-a036-ad7197b2221b",
     "prev": "6fc8595d-5960-4711-8455-94de0e7cbe81",
     "regions": {
      "77419f08-8e05-491a-ac51-b029afa90b4c": {
       "attrs": {
        "height": 0.8,
        "width": 0.8,
        "x": 0.1,
        "y": 0.1
       },
       "content": {
        "cell": "8f6247f3-d9aa-434b-ac74-e956faa6fcae",
        "part": "whole"
       },
       "id": "77419f08-8e05-491a-ac51-b029afa90b4c"
      }
     }
    },
    "a6360976-e47f-48c5-95b7-f387f8a8df4e": {
     "id": "a6360976-e47f-48c5-95b7-f387f8a8df4e",
     "prev": "d2d08d4b-12fd-4771-a2e3-592d5a61f951",
     "regions": {
      "43432f76-dcc8-4362-baae-b5491e66dafd": {
       "attrs": {
        "height": 0.8,
        "width": 0.8,
        "x": 0.1,
        "y": 0.1
       },
       "content": {
        "cell": "102922f5-659b-402f-b54f-45d90cf848fa",
        "part": "whole"
       },
       "id": "43432f76-dcc8-4362-baae-b5491e66dafd"
      }
     }
    },
    "a6e96f0e-18d6-4b7c-b614-21fab2e36d4d": {
     "id": "a6e96f0e-18d6-4b7c-b614-21fab2e36d4d",
     "prev": "5679b6f9-6ae7-4e12-96fa-e9aba37a556b",
     "regions": {
      "28cc39ac-036d-4c53-8609-89ebfabae784": {
       "attrs": {
        "height": 0.8,
        "width": 0.8,
        "x": 0.1,
        "y": 0.1
       },
       "content": {
        "cell": "a55a9888-fcc5-411e-80e4-f1000be094dc",
        "part": "whole"
       },
       "id": "28cc39ac-036d-4c53-8609-89ebfabae784"
      }
     }
    },
    "c4401735-3ccc-499d-b7dc-e37bc9d88210": {
     "id": "c4401735-3ccc-499d-b7dc-e37bc9d88210",
     "prev": "5894d3fc-d4a1-4a18-ac4d-bfb6a7061ebc",
     "regions": {
      "5c4d85fd-e9e7-46ba-8313-da66265ad72f": {
       "attrs": {
        "height": 0.8,
        "width": 0.8,
        "x": 0.1,
        "y": 0.1
       },
       "content": {
        "cell": "712c3627-3d66-448e-bd3b-80e3048d5c7d",
        "part": "whole"
       },
       "id": "5c4d85fd-e9e7-46ba-8313-da66265ad72f"
      }
     }
    },
    "d2d08d4b-12fd-4771-a2e3-592d5a61f951": {
     "id": "d2d08d4b-12fd-4771-a2e3-592d5a61f951",
     "prev": null,
     "regions": {
      "b92df7ec-1440-4ac1-9c8b-ae54df464a5f": {
       "attrs": {
        "height": 0.8,
        "width": 0.8,
        "x": 0.1,
        "y": 0.1
       },
       "content": {
        "cell": "2fd443fe-3962-43dc-a9c7-dc268b993914",
        "part": "whole"
       },
       "id": "b92df7ec-1440-4ac1-9c8b-ae54df464a5f"
      }
     }
    },
    "de6e20a0-c881-4728-b6bf-2ba30dd8bad9": {
     "id": "de6e20a0-c881-4728-b6bf-2ba30dd8bad9",
     "prev": "fc7498f3-9a1b-4725-b770-3e1b74e4adc8",
     "regions": {
      "a881654f-8db7-4718-9e83-4275c606126c": {
       "attrs": {
        "height": 0.8,
        "width": 0.8,
        "x": 0.1,
        "y": 0.1
       },
       "content": {
        "cell": "46fb59e1-29f9-40d8-8e74-b0498cf630a6",
        "part": "whole"
       },
       "id": "a881654f-8db7-4718-9e83-4275c606126c"
      }
     }
    },
    "ec8dbb14-d869-4c1e-ab6b-139ac55f2aba": {
     "id": "ec8dbb14-d869-4c1e-ab6b-139ac55f2aba",
     "prev": "c4401735-3ccc-499d-b7dc-e37bc9d88210",
     "regions": {
      "5175e098-0a51-42c1-9520-1be23e49deee": {
       "attrs": {
        "height": 0.8,
        "width": 0.8,
        "x": 0.1,
        "y": 0.1
       },
       "content": {
        "cell": "1a00f7d2-e7e6-4fd1-9720-7e46164df26c",
        "part": "whole"
       },
       "id": "5175e098-0a51-42c1-9520-1be23e49deee"
      }
     }
    },
    "fc7498f3-9a1b-4725-b770-3e1b74e4adc8": {
     "id": "fc7498f3-9a1b-4725-b770-3e1b74e4adc8",
     "prev": "ec8dbb14-d869-4c1e-ab6b-139ac55f2aba",
     "regions": {
      "852e94fb-3618-4db1-8e70-0a849b2985eb": {
       "attrs": {
        "height": 0.8,
        "width": 0.8,
        "x": 0.1,
        "y": 0.1
       },
       "content": {
        "cell": "b7beb40f-4ecf-470e-a3c7-7c352ba4d871",
        "part": "whole"
       },
       "id": "852e94fb-3618-4db1-8e70-0a849b2985eb"
      }
     }
    },
    "ff3dfd6d-e805-48b0-9ee6-73229745f75d": {
     "id": "ff3dfd6d-e805-48b0-9ee6-73229745f75d",
     "prev": "77322cfa-3f1b-4f2f-9da4-543dc7c1e3f2",
     "regions": {
      "e19d1743-f1f2-4ba7-8fc0-b027e123a275": {
       "attrs": {
        "height": 0.8,
        "width": 0.8,
        "x": 0.1,
        "y": 0.1
       },
       "content": {
        "cell": "2e96de0e-7660-4df5-b6c3-4fa6d11f5e46",
        "part": "whole"
       },
       "id": "e19d1743-f1f2-4ba7-8fc0-b027e123a275"
      }
     }
    },
    "ff4a1fe2-5ed0-4557-b9d4-69022b9f43d4": {
     "id": "ff4a1fe2-5ed0-4557-b9d4-69022b9f43d4",
     "prev": "4e876a5e-8c8f-4531-9c58-ef1367ec8d1c",
     "regions": {
      "70c17627-a3b2-4ad5-b860-8d1ca5df5204": {
       "attrs": {
        "height": 0.8,
        "width": 0.8,
        "x": 0.1,
        "y": 0.1
       },
       "content": {
        "cell": "c703d71b-21f7-4c24-bdef-3c3016290733",
        "part": "whole"
       },
       "id": "70c17627-a3b2-4ad5-b860-8d1ca5df5204"
      }
     }
    }
   },
   "themes": {}
  },
  "toc": {
   "nav_menu": {},
   "number_sections": true,
   "sideBar": true,
   "skip_h1_title": false,
   "title_cell": "Table of Contents",
   "title_sidebar": "Contents",
   "toc_cell": false,
   "toc_position": {},
   "toc_section_display": true,
   "toc_window_display": false
  },
  "varInspector": {
   "cols": {
    "lenName": 16,
    "lenType": 16,
    "lenVar": 40
   },
   "kernels_config": {
    "python": {
     "delete_cmd_postfix": "",
     "delete_cmd_prefix": "del ",
     "library": "var_list.py",
     "varRefreshCmd": "print(var_dic_list())"
    },
    "r": {
     "delete_cmd_postfix": ") ",
     "delete_cmd_prefix": "rm(",
     "library": "var_list.r",
     "varRefreshCmd": "cat(var_dic_list()) "
    }
   },
   "position": {
    "height": "414px",
    "left": "643.727px",
    "right": "20px",
    "top": "127.986px",
    "width": "556px"
   },
   "types_to_exclude": [
    "module",
    "function",
    "builtin_function_or_method",
    "instance",
    "_Feature"
   ],
   "window_display": false
  }
 },
 "nbformat": 4,
 "nbformat_minor": 2
}
