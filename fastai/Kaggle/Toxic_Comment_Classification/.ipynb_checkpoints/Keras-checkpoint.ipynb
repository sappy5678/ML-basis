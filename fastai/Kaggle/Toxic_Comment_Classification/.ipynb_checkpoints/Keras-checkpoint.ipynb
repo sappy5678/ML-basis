{
 "cells": [
  {
   "cell_type": "code",
   "execution_count": 1,
   "metadata": {
    "collapsed": true,
    "nbpresent": {
     "id": "08ffb395-ad8b-42a9-a4b1-f622ab863f07"
    }
   },
   "outputs": [],
   "source": [
    "# 下載資料集\n",
    "# !kg download -c jigsaw-toxic-comment-classification-challenge\n",
    "# !unzip train.csv.zip \n",
    "# !unzip test.csv.zip \n",
    "# !unzip sample_submission.csv.zip "
   ]
  },
  {
   "cell_type": "code",
   "execution_count": 2,
   "metadata": {
    "collapsed": true,
    "nbpresent": {
     "id": "735cac6c-4429-4767-9782-37f89e473137"
    }
   },
   "outputs": [],
   "source": [
    "import pandas as pd\n",
    "\n",
    "train = pd.read_csv('train.csv')\n",
    "test = pd.read_csv('test.csv')"
   ]
  },
  {
   "cell_type": "code",
   "execution_count": 3,
   "metadata": {
    "collapsed": true,
    "nbpresent": {
     "id": "be15bab7-feb7-43bf-ba98-dcaa46e25948"
    }
   },
   "outputs": [],
   "source": [
    "list_classes = [\"toxic\", \"severe_toxic\", \"obscene\", \"threat\", \"insult\", \"identity_hate\"]\n",
    "y = train[list_classes].values\n",
    "list_sentences_train = train[\"comment_text\"]\n",
    "list_sentences_test = test[\"comment_text\"]"
   ]
  },
  {
   "cell_type": "code",
   "execution_count": 4,
   "metadata": {
    "nbpresent": {
     "id": "2befa415-28c6-4389-a16d-719d8f949d8b"
    }
   },
   "outputs": [
    {
     "name": "stderr",
     "output_type": "stream",
     "text": [
      "/home/dllab/anaconda3/envs/DL3/lib/python3.6/site-packages/h5py/__init__.py:34: FutureWarning: Conversion of the second argument of issubdtype from `float` to `np.floating` is deprecated. In future, it will be treated as `np.float64 == np.dtype(float).type`.\n",
      "  from ._conv import register_converters as _register_converters\n",
      "Using TensorFlow backend.\n",
      "/home/dllab/anaconda3/envs/DL3/lib/python3.6/importlib/_bootstrap.py:219: RuntimeWarning: compiletime version 3.5 of module 'tensorflow.python.framework.fast_tensor_util' does not match runtime version 3.6\n",
      "  return f(*args, **kwds)\n"
     ]
    }
   ],
   "source": [
    "from keras.preprocessing.text import Tokenizer\n",
    "from keras.preprocessing.sequence import pad_sequences\n",
    "\n",
    "max_features = 50000\n",
    "tokenizer = Tokenizer(num_words=max_features)\n",
    "tokenizer.fit_on_texts(list(list_sentences_train))\n",
    "list_tokenized_train = tokenizer.texts_to_sequences(list_sentences_train)\n",
    "list_tokenized_test = tokenizer.texts_to_sequences(list_sentences_test)"
   ]
  },
  {
   "cell_type": "code",
   "execution_count": 5,
   "metadata": {
    "nbpresent": {
     "id": "2f05fe8f-ea69-41b0-a2b3-a6a414e97555"
    }
   },
   "outputs": [
    {
     "data": {
      "text/plain": [
       "[[688,\n",
       "  75,\n",
       "  1,\n",
       "  126,\n",
       "  130,\n",
       "  177,\n",
       "  29,\n",
       "  672,\n",
       "  4511,\n",
       "  12052,\n",
       "  1116,\n",
       "  86,\n",
       "  331,\n",
       "  51,\n",
       "  2278,\n",
       "  11448,\n",
       "  50,\n",
       "  6864,\n",
       "  15,\n",
       "  60,\n",
       "  2756,\n",
       "  148,\n",
       "  7,\n",
       "  2937,\n",
       "  34,\n",
       "  117,\n",
       "  1221,\n",
       "  15190,\n",
       "  2825,\n",
       "  4,\n",
       "  45,\n",
       "  59,\n",
       "  244,\n",
       "  1,\n",
       "  365,\n",
       "  31,\n",
       "  1,\n",
       "  38,\n",
       "  27,\n",
       "  143,\n",
       "  73,\n",
       "  3462,\n",
       "  89,\n",
       "  3085,\n",
       "  4583,\n",
       "  2273,\n",
       "  985]]"
      ]
     },
     "execution_count": 5,
     "metadata": {},
     "output_type": "execute_result"
    }
   ],
   "source": [
    "list_tokenized_train[:1]"
   ]
  },
  {
   "cell_type": "code",
   "execution_count": 6,
   "metadata": {
    "collapsed": true,
    "nbpresent": {
     "id": "1910830c-d0e8-448f-807f-8ba9749551d6"
    }
   },
   "outputs": [],
   "source": [
    "maxlen = 200\n",
    "X_t = pad_sequences(list_tokenized_train, maxlen=maxlen)\n",
    "X_te = pad_sequences(list_tokenized_test, maxlen=maxlen)"
   ]
  },
  {
   "cell_type": "code",
   "execution_count": 7,
   "metadata": {
    "collapsed": true,
    "nbpresent": {
     "id": "b086f855-5d04-47ef-9570-eca9a4cbd7e0"
    }
   },
   "outputs": [],
   "source": [
    "totalNumWords = [len(one_comment) for one_comment in list_tokenized_train]"
   ]
  },
  {
   "cell_type": "code",
   "execution_count": 8,
   "metadata": {
    "nbpresent": {
     "id": "2fd443fe-3962-43dc-a9c7-dc268b993914"
    }
   },
   "outputs": [
    {
     "data": {
      "image/png": "[encoded data removed]",
      "text/plain": [
       "<matplotlib.figure.Figure at 0x7f74beda26d8>"
      ]
     },
     "metadata": {},
     "output_type": "display_data"
    }
   ],
   "source": [
    "import numpy as np\n",
    "import matplotlib.pyplot as plt\n",
    "%matplotlib inline\n",
    "\n",
    "plt.hist(totalNumWords,bins = np.arange(0,410,10))#[0,50,100,150,200,250,300,350,400])#,450,500,550,600,650,700,750,800,850,900])\n",
    "plt.show()"
   ]
  },
  {
   "cell_type": "code",
   "execution_count": 179,
   "metadata": {
    "collapsed": true,
    "nbpresent": {
     "id": "102922f5-659b-402f-b54f-45d90cf848fa"
    }
   },
   "outputs": [],
   "source": [
    "from keras.layers import Dense, Input, LSTM, Embedding, Dropout, Activation,CuDNNLSTM,CuDNNGRU,GRU\n",
    "from keras.layers import Bidirectional, GlobalMaxPool1D,BatchNormalization\n",
    "from keras.models import Model\n",
    "from keras import initializers, regularizers, constraints, optimizers, layers\n",
    "\n",
    "\n",
    "inp = Input(shape=(maxlen, )) #maxlen=200 as defined earlier"
   ]
  },
  {
   "cell_type": "code",
   "execution_count": 180,
   "metadata": {
    "collapsed": true,
    "nbpresent": {
     "id": "2319deb5-6c3a-4c7c-9127-de0c6e681208"
    }
   },
   "outputs": [],
   "source": [
    "embed_size = 1024\n",
    "x = Embedding(max_features, embed_size)(inp)"
   ]
  },
  {
   "cell_type": "code",
   "execution_count": null,
   "metadata": {
    "collapsed": true,
    "nbpresent": {
     "id": "be792a8b-30d6-430f-a6cf-d1eb1fc7db58"
    }
   },
   "outputs": [],
   "source": [
    "x = Bidirectional(CuDNNLSTM(120  , return_sequences=True,name='lstm_layer'))(x)"
   ]
  },
  {
   "cell_type": "code",
   "execution_count": null,
   "metadata": {
    "collapsed": true,
    "nbpresent": {
     "id": "f53e8c93-71d0-453f-8680-3ccf9fd8231b"
    }
   },
   "outputs": [],
   "source": [
    "x = Bidirectional(CuDNNGRU(60  , return_sequences=True,name='lstm_layer'))(x)"
   ]
  },
  {
   "cell_type": "code",
   "execution_count": null,
   "metadata": {
    "collapsed": true,
    "nbpresent": {
     "id": "cced431b-1698-4c65-b5f8-9ec2f2ae8c31"
    }
   },
   "outputs": [],
   "source": [
    "x = GlobalMaxPool1D()(x)"
   ]
  },
  {
   "cell_type": "code",
   "execution_count": null,
   "metadata": {
    "collapsed": true,
    "nbpresent": {
     "id": "8f6247f3-d9aa-434b-ac74-e956faa6fcae"
    }
   },
   "outputs": [],
   "source": [
    "# x = Dropout(0.1)(x)"
   ]
  },
  {
   "cell_type": "code",
   "execution_count": null,
   "metadata": {
    "collapsed": true,
    "nbpresent": {
     "id": "26c26e11-fa6d-4afc-bc55-eb3dd4bb055f"
    }
   },
   "outputs": [],
   "source": [
    "# x = BatchNormalization()(x) "
   ]
  },
  {
   "cell_type": "code",
   "execution_count": null,
   "metadata": {
    "collapsed": true,
    "nbpresent": {
     "id": "6f830fe6-924b-418c-a2ec-3d777a8996b7"
    }
   },
   "outputs": [],
   "source": [
    "x = Dense(480 , activation=\"elu\")(x)"
   ]
  },
  {
   "cell_type": "code",
   "execution_count": null,
   "metadata": {
    "collapsed": true,
    "nbpresent": {
     "id": "bfd5f267-aa63-4eba-abb6-56571afbb77a"
    }
   },
   "outputs": [],
   "source": [
    "x = Dropout(0.1)(x)"
   ]
  },
  {
   "cell_type": "code",
   "execution_count": null,
   "metadata": {
    "collapsed": true,
    "nbpresent": {
     "id": "2e96de0e-7660-4df5-b6c3-4fa6d11f5e46"
    }
   },
   "outputs": [],
   "source": [
    "x = Dense(240 , activation=\"elu\")(x)"
   ]
  },
  {
   "cell_type": "code",
   "execution_count": null,
   "metadata": {
    "collapsed": true,
    "nbpresent": {
     "id": "7560397b-036a-46a7-a044-640ec8311d30"
    }
   },
   "outputs": [],
   "source": [
    "x = BatchNormalization()(x) "
   ]
  },
  {
   "cell_type": "code",
   "execution_count": 167,
   "metadata": {
    "collapsed": true,
    "nbpresent": {
     "id": "712c3627-3d66-448e-bd3b-80e3048d5c7d"
    }
   },
   "outputs": [],
   "source": [
    "x = Dropout(0.1)(x)"
   ]
  },
  {
   "cell_type": "code",
   "execution_count": 168,
   "metadata": {
    "collapsed": true,
    "nbpresent": {
     "id": "1a00f7d2-e7e6-4fd1-9720-7e46164df26c"
    }
   },
   "outputs": [],
   "source": [
    "x = BatchNormalization()(x) "
   ]
  },
  {
   "cell_type": "code",
   "execution_count": 169,
   "metadata": {
    "collapsed": true,
    "nbpresent": {
     "id": "b7beb40f-4ecf-470e-a3c7-7c352ba4d871"
    }
   },
   "outputs": [],
   "source": [
    "x = Dense(6, activation=\"sigmoid\")(x)"
   ]
  },
  {
   "cell_type": "code",
   "execution_count": 170,
   "metadata": {
    "collapsed": true,
    "nbpresent": {
     "id": "46fb59e1-29f9-40d8-8e74-b0498cf630a6"
    }
   },
   "outputs": [],
   "source": [
    "model = Model(inputs=inp, outputs=x)\n",
    "model.compile(loss='binary_crossentropy',\n",
    "                  optimizer='adam',\n",
    "                  metrics=['accuracy'])"
   ]
  },
  {
   "cell_type": "code",
   "execution_count": 171,
   "metadata": {
    "nbpresent": {
     "id": "0d84bcea-7734-42c1-9a85-d35f11f115a4"
    }
   },
   "outputs": [
    {
     "name": "stdout",
     "output_type": "stream",
     "text": [
      "Train on 143613 samples, validate on 15958 samples\n",
      "Epoch 1/3\n",
      "143613/143613 [==============================] - 651s 5ms/step - loss: 0.0721 - acc: 0.9749 - val_loss: 0.0504 - val_acc: 0.9818\n",
      "Epoch 2/3\n",
      "143613/143613 [==============================] - 649s 5ms/step - loss: 0.0438 - acc: 0.9835 - val_loss: 0.0472 - val_acc: 0.9823\n",
      "Epoch 3/3\n",
      "143613/143613 [==============================] - 649s 5ms/step - loss: 0.0357 - acc: 0.9862 - val_loss: 0.0486 - val_acc: 0.9825\n"
     ]
    },
    {
     "data": {
      "text/plain": [
       "<keras.callbacks.History at 0x7f741d69e208>"
      ]
     },
     "execution_count": 171,
     "metadata": {},
     "output_type": "execute_result"
    }
   ],
   "source": [
    "\n",
    "batch_size = 32\n",
    "epochs = 3\n",
    "# model.fit(X_t,y, batch_size=batch_size, epochs=epochs, validation_split=0.1)\n",
    "model.fit(X_t,y, batch_size=batch_size, epochs=epochs, validation_split=0.1,shuffle=True)"
   ]
  },
  {
   "cell_type": "code",
   "execution_count": null,
   "metadata": {
    "collapsed": true,
    "nbpresent": {
     "id": "2531c5b9-eaea-4167-a705-348b04420b4e"
    }
   },
   "outputs": [],
   "source": []
  },
  {
   "cell_type": "code",
   "execution_count": 172,
   "metadata": {
    "nbpresent": {
     "id": "8e75b514-d13f-4342-ad45-88bee068f5eb"
    }
   },
   "outputs": [
    {
     "name": "stdout",
     "output_type": "stream",
     "text": [
      "_________________________________________________________________\n",
      "Layer (type)                 Output Shape              Param #   \n",
      "=================================================================\n",
      "input_10 (InputLayer)        (None, 200)               0         \n",
      "_________________________________________________________________\n",
      "embedding_10 (Embedding)     (None, 200, 1024)         51200000  \n",
      "_________________________________________________________________\n",
      "bidirectional_20 (Bidirectio (None, 200, 240)          1100160   \n",
      "_________________________________________________________________\n",
      "bidirectional_21 (Bidirectio (None, 200, 120)          108720    \n",
      "_________________________________________________________________\n",
      "global_max_pooling1d_8 (Glob (None, 120)               0         \n",
      "_________________________________________________________________\n",
      "batch_normalization_22 (Batc (None, 120)               480       \n",
      "_________________________________________________________________\n",
      "dense_22 (Dense)             (None, 480)               58080     \n",
      "_________________________________________________________________\n",
      "dropout_20 (Dropout)         (None, 480)               0         \n",
      "_________________________________________________________________\n",
      "dense_23 (Dense)             (None, 240)               115440    \n",
      "_________________________________________________________________\n",
      "batch_normalization_23 (Batc (None, 240)               960       \n",
      "_________________________________________________________________\n",
      "dropout_21 (Dropout)         (None, 240)               0         \n",
      "_________________________________________________________________\n",
      "batch_normalization_24 (Batc (None, 240)               960       \n",
      "_________________________________________________________________\n",
      "dense_24 (Dense)             (None, 6)                 1446      \n",
      "=================================================================\n",
      "Total params: 52,586,246\n",
      "Trainable params: 52,585,046\n",
      "Non-trainable params: 1,200\n",
      "_________________________________________________________________\n"
     ]
    }
   ],
   "source": [
    "model.summary()"
   ]
  },
  {
   "cell_type": "code",
   "execution_count": 175,
   "metadata": {
    "nbpresent": {
     "id": "c703d71b-21f7-4c24-bdef-3c3016290733"
    }
   },
   "outputs": [],
   "source": [
    "classes = model.predict(X_te, batch_size=256)"
   ]
  },
  {
   "cell_type": "code",
   "execution_count": 176,
   "metadata": {
    "nbpresent": {
     "id": "1b31485f-66c1-49b1-bc0b-50fd50c8fc16"
    }
   },
   "outputs": [
    {
     "name": "stdout",
     "output_type": "stream",
     "text": [
      "[[9.9640536e-01 2.1073781e-01 9.9029845e-01 5.4387495e-02 9.5406467e-01\n",
      "  2.5273758e-01]\n",
      " [1.5529318e-06 2.6637256e-06 5.7893624e-07 5.0504627e-07 2.5338579e-06\n",
      "  1.1329469e-05]\n",
      " [1.4834854e-02 4.8776504e-04 1.0365103e-03 4.1777533e-04 1.6733889e-03\n",
      "  5.0150002e-03]\n",
      " ...\n",
      " [4.2755502e-05 9.1308139e-06 1.5597027e-05 7.4053596e-06 1.3765363e-05\n",
      "  9.1264092e-06]\n",
      " [6.9734240e-05 2.9630708e-06 2.6854088e-06 6.2715144e-06 9.8988057e-06\n",
      "  4.8068207e-05]\n",
      " [9.8135203e-01 3.0354882e-02 9.2575425e-01 1.3222138e-03 4.7025904e-01\n",
      "  2.1983164e-03]]\n"
     ]
    }
   ],
   "source": [
    "print(classes)"
   ]
  },
  {
   "cell_type": "code",
   "execution_count": 177,
   "metadata": {
    "nbpresent": {
     "id": "e50e53f6-44ec-444a-9a56-21a86cb031c9"
    }
   },
   "outputs": [
    {
     "name": "stdout",
     "output_type": "stream",
     "text": [
      "                      id         toxic  severe_toxic       obscene  \\\n",
      "0       00001cee341fdb12  9.964054e-01  2.107378e-01  9.902984e-01   \n",
      "1       0000247867823ef7  1.552932e-06  2.663726e-06  5.789362e-07   \n",
      "2       00013b17ad220c46  1.483485e-02  4.877650e-04  1.036510e-03   \n",
      "3       00017563c3f7919a  1.900491e-04  1.836523e-05  1.301137e-05   \n",
      "4       00017695ad8997eb  2.602235e-03  2.591214e-04  7.086286e-04   \n",
      "5       0001ea8717f6de06  1.260394e-02  4.933844e-04  1.686882e-03   \n",
      "6       00024115d4cbde0f  3.653068e-07  9.663773e-07  7.544929e-08   \n",
      "7       000247e83dcc1211  4.297192e-01  8.270508e-03  9.936259e-02   \n",
      "8       00025358d4737918  2.414940e-02  1.607316e-04  2.156231e-03   \n",
      "9       00026d1092fe71cc  2.415999e-04  4.422574e-05  2.886094e-05   \n",
      "10      0002eadc3b301559  6.855234e-01  4.962968e-03  4.437159e-01   \n",
      "11      0002f87b16116a7f  7.166290e-04  1.803161e-05  2.629998e-04   \n",
      "12      0003806b11932181  7.587625e-06  4.587037e-06  1.072370e-06   \n",
      "13      0003e1cccfd5a40a  3.221089e-05  4.314568e-06  1.340226e-05   \n",
      "14      00059ace3e3e9a53  1.886391e-06  5.513476e-06  8.799428e-07   \n",
      "15      000634272d0d44eb  3.981407e-05  1.356066e-05  9.463363e-06   \n",
      "16      000663aff0fffc80  1.824056e-02  1.122734e-03  9.295796e-03   \n",
      "17      000689dd34e20979  3.061161e-04  2.029488e-05  4.634181e-05   \n",
      "18      000834769115370c  2.498850e-03  1.708842e-04  1.766245e-03   \n",
      "19      000844b52dee5f3f  1.205644e-02  8.746919e-04  6.008996e-03   \n",
      "20      00084da5d4ead7aa  1.229149e-04  5.717238e-05  6.266167e-05   \n",
      "21      00091c35fa9d0465  7.472528e-01  1.499220e-02  1.003702e-01   \n",
      "22      000968ce11f5ee34  8.475800e-02  9.808920e-04  1.098602e-03   \n",
      "23      0009734200a85047  9.842725e-04  2.361280e-05  7.302336e-05   \n",
      "24      00097b6214686db5  6.577554e-01  3.977919e-03  1.957875e-01   \n",
      "25      0009aef4bd9e1697  3.075072e-09  2.504691e-11  5.180643e-09   \n",
      "26      000a02d807ae0254  2.045157e-04  2.578214e-05  1.378040e-05   \n",
      "27      000a6c6d4e89b9bc  9.404505e-02  7.679519e-04  6.043173e-03   \n",
      "28      000bafe2080bba82  2.083727e-02  2.467355e-04  2.862784e-04   \n",
      "29      000bf0a9894b2807  9.906141e-07  5.788236e-07  1.177427e-07   \n",
      "...                  ...           ...           ...           ...   \n",
      "153134  fff3ae2e177b6bb3  7.555658e-04  1.448230e-05  2.242143e-05   \n",
      "153135  fff4109e837f7acc  1.068251e-05  1.113579e-05  4.409410e-06   \n",
      "153136  fff4373a81ef9f2a  3.758451e-05  7.200297e-06  5.092685e-06   \n",
      "153137  fff460574ddbcd80  8.574461e-03  1.117325e-04  2.533003e-04   \n",
      "153138  fff4fc0a1555be5c  1.767658e-05  9.185698e-06  5.402017e-06   \n",
      "153139  fff5b9bb944d634c  3.466257e-03  8.798587e-05  2.093125e-04   \n",
      "153140  fff5c4a77fe0c05f  2.040031e-04  4.519967e-05  4.223980e-05   \n",
      "153141  fff5fb61bd637c82  7.188167e-06  3.646326e-06  3.181188e-06   \n",
      "153142  fff69311f306df44  3.255714e-03  9.143224e-05  3.072669e-04   \n",
      "153143  fff6ad63666fb304  9.822288e-01  8.128387e-02  9.548599e-01   \n",
      "153144  fff7159b3ee95618  1.707983e-04  2.049015e-05  1.985358e-05   \n",
      "153145  fff718ffe5f05559  1.165348e-05  2.075785e-06  7.674547e-06   \n",
      "153146  fff7fc22a0cdccd3  4.236231e-08  3.748618e-07  2.716938e-08   \n",
      "153147  fff83b80284d8440  8.001098e-05  4.042275e-05  2.164367e-05   \n",
      "153148  fff8ef316d0c6990  2.992306e-06  5.739781e-06  1.442729e-06   \n",
      "153149  fff8f521a7dbcd47  6.981529e-01  9.964567e-03  1.866521e-01   \n",
      "153150  fff8f64043129fa2  6.340226e-06  1.831953e-06  1.137772e-06   \n",
      "153151  fff9d70fe0722906  8.827596e-01  1.088063e-02  5.957901e-01   \n",
      "153152  fff9fa508f400ee6  7.072472e-01  7.804112e-03  6.021112e-01   \n",
      "153153  fffa3fae1890b40a  9.487454e-01  3.280736e-02  8.503785e-01   \n",
      "153154  fffa8a11c4378854  8.292837e-01  1.097149e-02  8.941887e-02   \n",
      "153155  fffac2a094c8e0e2  9.917343e-01  1.585622e-01  9.768986e-01   \n",
      "153156  fffb5451268fb5ba  1.426480e-01  6.874648e-04  1.472274e-02   \n",
      "153157  fffc2b34bbe61c8d  5.042291e-07  6.980833e-07  7.954121e-08   \n",
      "153158  fffc489742ffe69b  8.767235e-01  7.148033e-03  2.952721e-01   \n",
      "153159  fffcd0960ee309b5  8.583003e-01  7.625481e-03  6.218507e-01   \n",
      "153160  fffd7a9a6eb32c16  1.390721e-05  3.145131e-06  9.075956e-07   \n",
      "153161  fffda9e8d6fafa9e  4.275550e-05  9.130814e-06  1.559703e-05   \n",
      "153162  fffe8f1340a79fc2  6.973424e-05  2.963071e-06  2.685409e-06   \n",
      "153163  ffffce3fb183ee80  9.813520e-01  3.035488e-02  9.257542e-01   \n",
      "\n",
      "              threat        insult  identity_hate  \n",
      "0       5.438749e-02  9.540647e-01   2.527376e-01  \n",
      "1       5.050463e-07  2.533858e-06   1.132947e-05  \n",
      "2       4.177753e-04  1.673389e-03   5.015000e-03  \n",
      "3       1.370812e-05  6.539944e-05   1.969918e-04  \n",
      "4       7.848817e-05  5.885236e-04   1.859465e-04  \n",
      "5       5.768616e-04  2.106543e-03   4.057206e-04  \n",
      "6       5.884295e-07  4.666573e-07   3.167018e-06  \n",
      "7       1.630543e-03  6.741598e-02   1.611428e-03  \n",
      "8       9.705301e-05  2.211547e-03   6.345877e-04  \n",
      "9       2.631936e-05  6.186940e-05   2.165676e-04  \n",
      "10      2.971879e-03  2.327543e-02   8.202196e-04  \n",
      "11      1.462191e-05  1.570587e-04   4.924660e-05  \n",
      "12      4.465593e-06  2.752155e-06   1.782881e-05  \n",
      "13      7.561613e-06  1.074931e-05   8.634553e-06  \n",
      "14      4.244102e-06  1.451537e-06   5.162031e-06  \n",
      "15      2.603108e-06  2.303008e-05   2.753572e-05  \n",
      "16      1.047861e-04  3.888292e-03   1.975446e-04  \n",
      "17      4.204866e-06  6.764487e-05   4.519075e-05  \n",
      "18      3.306493e-05  3.731024e-04   1.149209e-04  \n",
      "19      1.417293e-04  2.264778e-03   1.584288e-04  \n",
      "20      1.060841e-05  6.459492e-05   2.991930e-05  \n",
      "21      6.481623e-02  1.139462e-01   8.315728e-02  \n",
      "22      3.850058e-03  4.003420e-03   2.477105e-02  \n",
      "23      1.236299e-05  1.036466e-04   2.170143e-04  \n",
      "24      5.935901e-03  6.758369e-02   2.948941e-03  \n",
      "25      1.362779e-08  2.653427e-09   2.185162e-09  \n",
      "26      4.146553e-05  3.643064e-05   8.958796e-05  \n",
      "27      3.189754e-04  1.475624e-02   1.141825e-03  \n",
      "28      3.764889e-04  1.816178e-03   1.205989e-02  \n",
      "29      2.368966e-06  3.878186e-07   2.123087e-06  \n",
      "...              ...           ...            ...  \n",
      "153134  1.254278e-05  1.019244e-04   1.947526e-04  \n",
      "153135  1.250266e-06  5.836283e-06   7.117756e-06  \n",
      "153136  6.418976e-06  7.932673e-06   2.525765e-05  \n",
      "153137  2.648962e-04  8.002094e-04   2.810932e-04  \n",
      "153138  3.167275e-06  8.359381e-06   2.042332e-05  \n",
      "153139  6.246049e-05  6.273169e-04   2.101376e-04  \n",
      "153140  7.813518e-06  8.710821e-05   6.157264e-05  \n",
      "153141  1.025214e-05  4.710136e-06   4.683177e-06  \n",
      "153142  2.581676e-05  5.645351e-04   3.113986e-04  \n",
      "153143  5.704682e-04  7.410109e-01   3.194795e-03  \n",
      "153144  8.206593e-06  5.340050e-05   3.538331e-05  \n",
      "153145  4.554784e-06  5.712335e-06   2.917656e-06  \n",
      "153146  4.243768e-07  6.778004e-08   6.438034e-07  \n",
      "153147  1.216227e-05  5.205502e-05   5.281702e-05  \n",
      "153148  7.752645e-07  4.759040e-06   1.142363e-05  \n",
      "153149  2.610623e-03  1.008273e-01   2.101814e-03  \n",
      "153150  2.896461e-06  1.903034e-06   6.785694e-06  \n",
      "153151  3.765063e-03  1.557220e-01   1.746517e-03  \n",
      "153152  2.123001e-03  2.056826e-02   6.380195e-04  \n",
      "153153  1.728817e-01  3.612947e-01   8.565944e-03  \n",
      "153154  8.914173e-03  1.606703e-01   2.773321e-01  \n",
      "153155  1.659160e-02  9.313594e-01   5.396780e-01  \n",
      "153156  2.469452e-04  2.043479e-02   7.289616e-03  \n",
      "153157  1.202921e-06  2.551260e-07   1.355496e-06  \n",
      "153158  8.644481e-05  6.817862e-01   6.104073e-03  \n",
      "153159  7.236265e-04  1.353765e-01   1.288804e-03  \n",
      "153160  5.350133e-06  3.848699e-06   2.527042e-05  \n",
      "153161  7.405360e-06  1.376536e-05   9.126409e-06  \n",
      "153162  6.271514e-06  9.898806e-06   4.806821e-05  \n",
      "153163  1.322214e-03  4.702590e-01   2.198316e-03  \n",
      "\n",
      "[153164 rows x 7 columns]\n"
     ]
    }
   ],
   "source": [
    "# submission = pd.DataFrame({\n",
    "#     \"id\": test[\"id\"],\n",
    "#     list_classes: classes})\n",
    "# list_classes.insert(0,\"id\")\n",
    "# list_classes.remove(\"id\")\n",
    "# print(list_classes)\n",
    "# classes[:,:-1] = test[\"id\"]\n",
    "# print(classes[:,:0] )\n",
    "# a = np.append(test[\"id\"],classes,axis=1)\n",
    "# classes[:,:0] = (np.array(test[\"id\"]))\n",
    "# print(a)\n",
    "submission = pd.DataFrame(\n",
    "      classes, columns=list_classes)\n",
    "\n",
    "\n",
    "submission[\"id\"] = test[\"id\"]\n",
    "\n",
    "submission = submission[[\"id\",\"toxic\", \"severe_toxic\", \"obscene\", \"threat\", \"insult\", \"identity_hate\"]]\n",
    "print(submission)\n",
    "submission.to_csv('titanic_lin.csv', index=False)"
   ]
  },
  {
   "cell_type": "code",
   "execution_count": 178,
   "metadata": {
    "nbpresent": {
     "id": "8bc0a7cb-f617-43f2-8505-ee906a4946da"
    }
   },
   "outputs": [
    {
     "name": "stdout",
     "output_type": "stream",
     "text": [
      "0.9768\r\n"
     ]
    }
   ],
   "source": [
    "!kg submit titanic_lin.csv -c jigsaw-toxic-comment-classification-challenge -m \"My First Keras Baseline\"  "
   ]
  },
  {
   "cell_type": "code",
   "execution_count": null,
   "metadata": {
    "collapsed": true,
    "nbpresent": {
     "id": "a55a9888-fcc5-411e-80e4-f1000be094dc"
    }
   },
   "outputs": [],
   "source": []
  },
  {
   "cell_type": "code",
   "execution_count": null,
   "metadata": {
    "collapsed": true,
    "nbpresent": {
     "id": "eabc0f0e-e89d-4db7-ae23-39b062536b0d"
    }
   },
   "outputs": [],
   "source": []
  },
  {
   "cell_type": "code",
   "execution_count": null,
   "metadata": {
    "collapsed": true
   },
   "outputs": [],
   "source": []
  }
 ],
 "metadata": {
  "kernelspec": {
   "display_name": "Python [conda env:DL3]",
   "language": "python",
   "name": "conda-env-DL3-py"
  },
  "language_info": {
   "codemirror_mode": {
    "name": "ipython",
    "version": 3
   },
   "file_extension": ".py",
   "mimetype": "text/x-python",
   "name": "python",
   "nbconvert_exporter": "python",
   "pygments_lexer": "ipython3",
   "version": "3.6.3"
  },
  "nbpresent": {
   "slides": {
    "1f6b3422-b341-4905-a13e-f9f8cdb711c9": {
     "id": "1f6b3422-b341-4905-a13e-f9f8cdb711c9",
     "prev": "a4d55ed9-226d-41ef-a036-ad7197b2221b",
     "regions": {
      "9811c6e5-0fa0-4ad6-9fbd-2085602098e7": {
       "attrs": {
        "height": 0.8,
        "width": 0.8,
        "x": 0.1,
        "y": 0.1
       },
       "content": {
        "cell": "26c26e11-fa6d-4afc-bc55-eb3dd4bb055f",
        "part": "whole"
       },
       "id": "9811c6e5-0fa0-4ad6-9fbd-2085602098e7"
      }
     }
    },
    "2bac4af2-3ee0-463b-9a2d-09c2c6fd3ab3": {
     "id": "2bac4af2-3ee0-463b-9a2d-09c2c6fd3ab3",
     "prev": "3315d087-8f88-47cf-99be-2d1ec5ba83fe",
     "regions": {
      "147b442a-d681-4f69-9b8e-159e3d1b6487": {
       "attrs": {
        "height": 0.8,
        "width": 0.8,
        "x": 0.1,
        "y": 0.1
       },
       "content": {
        "cell": "be792a8b-30d6-430f-a6cf-d1eb1fc7db58",
        "part": "whole"
       },
       "id": "147b442a-d681-4f69-9b8e-159e3d1b6487"
      }
     }
    },
    "3315d087-8f88-47cf-99be-2d1ec5ba83fe": {
     "id": "3315d087-8f88-47cf-99be-2d1ec5ba83fe",
     "prev": "a6360976-e47f-48c5-95b7-f387f8a8df4e",
     "regions": {
      "4b09b272-6b64-44ef-a424-1579d7c00233": {
       "attrs": {
        "height": 0.8,
        "width": 0.8,
        "x": 0.1,
        "y": 0.1
       },
       "content": {
        "cell": "2319deb5-6c3a-4c7c-9127-de0c6e681208",
        "part": "whole"
       },
       "id": "4b09b272-6b64-44ef-a424-1579d7c00233"
      }
     }
    },
    "34bdba8f-e90f-4a41-9127-47fdbac84280": {
     "id": "34bdba8f-e90f-4a41-9127-47fdbac84280",
     "prev": "ff4a1fe2-5ed0-4557-b9d4-69022b9f43d4",
     "regions": {
      "ae40d7d2-87a1-49a7-9a2c-0c87330efe60": {
       "attrs": {
        "height": 0.8,
        "width": 0.8,
        "x": 0.1,
        "y": 0.1
       },
       "content": {
        "cell": "1b31485f-66c1-49b1-bc0b-50fd50c8fc16",
        "part": "whole"
       },
       "id": "ae40d7d2-87a1-49a7-9a2c-0c87330efe60"
      }
     }
    },
    "4e876a5e-8c8f-4531-9c58-ef1367ec8d1c": {
     "id": "4e876a5e-8c8f-4531-9c58-ef1367ec8d1c",
     "prev": "a0f98d69-6e91-4591-9b6e-70318f8595b9",
     "regions": {
      "81af5c8a-763c-45f0-bca9-7e6fe7948b20": {
       "attrs": {
        "height": 0.8,
        "width": 0.8,
        "x": 0.1,
        "y": 0.1
       },
       "content": {
        "cell": "8e75b514-d13f-4342-ad45-88bee068f5eb",
        "part": "whole"
       },
       "id": "81af5c8a-763c-45f0-bca9-7e6fe7948b20"
      }
     }
    },
    "54884cde-d5f7-4300-a8f6-3b1dfdc41aa4": {
     "id": "54884cde-d5f7-4300-a8f6-3b1dfdc41aa4",
     "prev": "a6e96f0e-18d6-4b7c-b614-21fab2e36d4d",
     "regions": {
      "c900715f-cb2f-4978-b1cd-820936c89356": {
       "attrs": {
        "height": 0.8,
        "width": 0.8,
        "x": 0.1,
        "y": 0.1
       },
       "content": {
        "cell": "eabc0f0e-e89d-4db7-ae23-39b062536b0d",
        "part": "whole"
       },
       "id": "c900715f-cb2f-4978-b1cd-820936c89356"
      }
     }
    },
    "5679b6f9-6ae7-4e12-96fa-e9aba37a556b": {
     "id": "5679b6f9-6ae7-4e12-96fa-e9aba37a556b",
     "prev": "828bb31d-ccfe-4b6b-ac9d-e3a4aa3c9aac",
     "regions": {
      "906f3a14-cd3c-40e6-8b6f-1d250d6fadfb": {
       "attrs": {
        "height": 0.8,
        "width": 0.8,
        "x": 0.1,
        "y": 0.1
       },
       "content": {
        "cell": "8bc0a7cb-f617-43f2-8505-ee906a4946da",
        "part": "whole"
       },
       "id": "906f3a14-cd3c-40e6-8b6f-1d250d6fadfb"
      }
     }
    },
    "570aa7fb-b4cd-45ec-b0a7-cc90bca58e76": {
     "id": "570aa7fb-b4cd-45ec-b0a7-cc90bca58e76",
     "prev": "1f6b3422-b341-4905-a13e-f9f8cdb711c9",
     "regions": {
      "22bc5056-0d75-44ae-8029-daba02dfe831": {
       "attrs": {
        "height": 0.8,
        "width": 0.8,
        "x": 0.1,
        "y": 0.1
       },
       "content": {
        "cell": "6f830fe6-924b-418c-a2ec-3d777a8996b7",
        "part": "whole"
       },
       "id": "22bc5056-0d75-44ae-8029-daba02dfe831"
      }
     }
    },
    "5894d3fc-d4a1-4a18-ac4d-bfb6a7061ebc": {
     "id": "5894d3fc-d4a1-4a18-ac4d-bfb6a7061ebc",
     "prev": "ff3dfd6d-e805-48b0-9ee6-73229745f75d",
     "regions": {
      "d1bb604b-5096-4b39-a88c-45e22acfbc6f": {
       "attrs": {
        "height": 0.8,
        "width": 0.8,
        "x": 0.1,
        "y": 0.1
       },
       "content": {
        "cell": "7560397b-036a-46a7-a044-640ec8311d30",
        "part": "whole"
       },
       "id": "d1bb604b-5096-4b39-a88c-45e22acfbc6f"
      }
     }
    },
    "667f1a34-d659-400b-ba54-bc7d77dbc453": {
     "id": "667f1a34-d659-400b-ba54-bc7d77dbc453",
     "prev": "570aa7fb-b4cd-45ec-b0a7-cc90bca58e76",
     "regions": {
      "fd085f8f-c1da-44e8-ac4f-c7fac2fb3875": {
       "attrs": {
        "height": 0.8,
        "width": 0.8,
        "x": 0.1,
        "y": 0.1
       },
       "content": {
        "cell": "bfd5f267-aa63-4eba-abb6-56571afbb77a",
        "part": "whole"
       },
       "id": "fd085f8f-c1da-44e8-ac4f-c7fac2fb3875"
      }
     }
    },
    "6fc8595d-5960-4711-8455-94de0e7cbe81": {
     "id": "6fc8595d-5960-4711-8455-94de0e7cbe81",
     "prev": "81e6a30e-42e2-4022-a39e-c8d292d32a9f",
     "regions": {
      "abfaecc8-4550-4768-9228-04f45b055ed9": {
       "attrs": {
        "height": 0.8,
        "width": 0.8,
        "x": 0.1,
        "y": 0.1
       },
       "content": {
        "cell": "cced431b-1698-4c65-b5f8-9ec2f2ae8c31",
        "part": "whole"
       },
       "id": "abfaecc8-4550-4768-9228-04f45b055ed9"
      }
     }
    },
    "77322cfa-3f1b-4f2f-9da4-543dc7c1e3f2": {
     "id": "77322cfa-3f1b-4f2f-9da4-543dc7c1e3f2",
     "prev": "667f1a34-d659-400b-ba54-bc7d77dbc453",
     "regions": {
      "7f116da1-83b6-42ce-9f5e-fc870dcc463d": {
       "attrs": {
        "height": 0.8,
        "width": 0.8,
        "x": 0.1,
        "y": 0.1
       },
       "content": null,
       "id": "7f116da1-83b6-42ce-9f5e-fc870dcc463d"
      }
     }
    },
    "78dcadc4-3e97-44e3-acf7-d8c3b5cf30a3": {
     "id": "78dcadc4-3e97-44e3-acf7-d8c3b5cf30a3",
     "prev": "de6e20a0-c881-4728-b6bf-2ba30dd8bad9",
     "regions": {
      "bb37df17-cf04-464b-bfcf-3f27bf92f7bf": {
       "attrs": {
        "height": 0.8,
        "width": 0.8,
        "x": 0.1,
        "y": 0.1
       },
       "content": {
        "cell": "0d84bcea-7734-42c1-9a85-d35f11f115a4",
        "part": "whole"
       },
       "id": "bb37df17-cf04-464b-bfcf-3f27bf92f7bf"
      }
     }
    },
    "81e6a30e-42e2-4022-a39e-c8d292d32a9f": {
     "id": "81e6a30e-42e2-4022-a39e-c8d292d32a9f",
     "prev": "2bac4af2-3ee0-463b-9a2d-09c2c6fd3ab3",
     "regions": {
      "0583b363-7073-4bab-949b-e956c99391c7": {
       "attrs": {
        "height": 0.8,
        "width": 0.8,
        "x": 0.1,
        "y": 0.1
       },
       "content": {
        "cell": "f53e8c93-71d0-453f-8680-3ccf9fd8231b",
        "part": "whole"
       },
       "id": "0583b363-7073-4bab-949b-e956c99391c7"
      }
     }
    },
    "828bb31d-ccfe-4b6b-ac9d-e3a4aa3c9aac": {
     "id": "828bb31d-ccfe-4b6b-ac9d-e3a4aa3c9aac",
     "prev": "34bdba8f-e90f-4a41-9127-47fdbac84280",
     "regions": {
      "2cc4d4ec-dd9d-4509-8760-e12ff64cbac1": {
       "attrs": {
        "height": 0.8,
        "width": 0.8,
        "x": 0.1,
        "y": 0.1
       },
       "content": {
        "cell": "e50e53f6-44ec-444a-9a56-21a86cb031c9",
        "part": "whole"
       },
       "id": "2cc4d4ec-dd9d-4509-8760-e12ff64cbac1"
      }
     }
    },
    "a0f98d69-6e91-4591-9b6e-70318f8595b9": {
     "id": "a0f98d69-6e91-4591-9b6e-70318f8595b9",
     "prev": "78dcadc4-3e97-44e3-acf7-d8c3b5cf30a3",
     "regions": {
      "c1ce358a-5469-4107-b4fe-1738ca42fce7": {
       "attrs": {
        "height": 0.8,
        "width": 0.8,
        "x": 0.1,
        "y": 0.1
       },
       "content": {
        "cell": "2531c5b9-eaea-4167-a705-348b04420b4e",
        "part": "whole"
       },
       "id": "c1ce358a-5469-4107-b4fe-1738ca42fce7"
      }
     }
    },
    "a4d55ed9-226d-41ef-a036-ad7197b2221b": {
     "id": "a4d55ed9-226d-41ef-a036-ad7197b2221b",
     "prev": "6fc8595d-5960-4711-8455-94de0e7cbe81",
     "regions": {
      "77419f08-8e05-491a-ac51-b029afa90b4c": {
       "attrs": {
        "height": 0.8,
        "width": 0.8,
        "x": 0.1,
        "y": 0.1
       },
       "content": {
        "cell": "8f6247f3-d9aa-434b-ac74-e956faa6fcae",
        "part": "whole"
       },
       "id": "77419f08-8e05-491a-ac51-b029afa90b4c"
      }
     }
    },
    "a6360976-e47f-48c5-95b7-f387f8a8df4e": {
     "id": "a6360976-e47f-48c5-95b7-f387f8a8df4e",
     "prev": "d2d08d4b-12fd-4771-a2e3-592d5a61f951",
     "regions": {
      "43432f76-dcc8-4362-baae-b5491e66dafd": {
       "attrs": {
        "height": 0.8,
        "width": 0.8,
        "x": 0.1,
        "y": 0.1
       },
       "content": {
        "cell": "102922f5-659b-402f-b54f-45d90cf848fa",
        "part": "whole"
       },
       "id": "43432f76-dcc8-4362-baae-b5491e66dafd"
      }
     }
    },
    "a6e96f0e-18d6-4b7c-b614-21fab2e36d4d": {
     "id": "a6e96f0e-18d6-4b7c-b614-21fab2e36d4d",
     "prev": "5679b6f9-6ae7-4e12-96fa-e9aba37a556b",
     "regions": {
      "28cc39ac-036d-4c53-8609-89ebfabae784": {
       "attrs": {
        "height": 0.8,
        "width": 0.8,
        "x": 0.1,
        "y": 0.1
       },
       "content": {
        "cell": "a55a9888-fcc5-411e-80e4-f1000be094dc",
        "part": "whole"
       },
       "id": "28cc39ac-036d-4c53-8609-89ebfabae784"
      }
     }
    },
    "c4401735-3ccc-499d-b7dc-e37bc9d88210": {
     "id": "c4401735-3ccc-499d-b7dc-e37bc9d88210",
     "prev": "5894d3fc-d4a1-4a18-ac4d-bfb6a7061ebc",
     "regions": {
      "5c4d85fd-e9e7-46ba-8313-da66265ad72f": {
       "attrs": {
        "height": 0.8,
        "width": 0.8,
        "x": 0.1,
        "y": 0.1
       },
       "content": {
        "cell": "712c3627-3d66-448e-bd3b-80e3048d5c7d",
        "part": "whole"
       },
       "id": "5c4d85fd-e9e7-46ba-8313-da66265ad72f"
      }
     }
    },
    "d2d08d4b-12fd-4771-a2e3-592d5a61f951": {
     "id": "d2d08d4b-12fd-4771-a2e3-592d5a61f951",
     "prev": null,
     "regions": {
      "b92df7ec-1440-4ac1-9c8b-ae54df464a5f": {
       "attrs": {
        "height": 0.8,
        "width": 0.8,
        "x": 0.1,
        "y": 0.1
       },
       "content": {
        "cell": "2fd443fe-3962-43dc-a9c7-dc268b993914",
        "part": "whole"
       },
       "id": "b92df7ec-1440-4ac1-9c8b-ae54df464a5f"
      }
     }
    },
    "de6e20a0-c881-4728-b6bf-2ba30dd8bad9": {
     "id": "de6e20a0-c881-4728-b6bf-2ba30dd8bad9",
     "prev": "fc7498f3-9a1b-4725-b770-3e1b74e4adc8",
     "regions": {
      "a881654f-8db7-4718-9e83-4275c606126c": {
       "attrs": {
        "height": 0.8,
        "width": 0.8,
        "x": 0.1,
        "y": 0.1
       },
       "content": {
        "cell": "46fb59e1-29f9-40d8-8e74-b0498cf630a6",
        "part": "whole"
       },
       "id": "a881654f-8db7-4718-9e83-4275c606126c"
      }
     }
    },
    "ec8dbb14-d869-4c1e-ab6b-139ac55f2aba": {
     "id": "ec8dbb14-d869-4c1e-ab6b-139ac55f2aba",
     "prev": "c4401735-3ccc-499d-b7dc-e37bc9d88210",
     "regions": {
      "5175e098-0a51-42c1-9520-1be23e49deee": {
       "attrs": {
        "height": 0.8,
        "width": 0.8,
        "x": 0.1,
        "y": 0.1
       },
       "content": {
        "cell": "1a00f7d2-e7e6-4fd1-9720-7e46164df26c",
        "part": "whole"
       },
       "id": "5175e098-0a51-42c1-9520-1be23e49deee"
      }
     }
    },
    "fc7498f3-9a1b-4725-b770-3e1b74e4adc8": {
     "id": "fc7498f3-9a1b-4725-b770-3e1b74e4adc8",
     "prev": "ec8dbb14-d869-4c1e-ab6b-139ac55f2aba",
     "regions": {
      "852e94fb-3618-4db1-8e70-0a849b2985eb": {
       "attrs": {
        "height": 0.8,
        "width": 0.8,
        "x": 0.1,
        "y": 0.1
       },
       "content": {
        "cell": "b7beb40f-4ecf-470e-a3c7-7c352ba4d871",
        "part": "whole"
       },
       "id": "852e94fb-3618-4db1-8e70-0a849b2985eb"
      }
     }
    },
    "ff3dfd6d-e805-48b0-9ee6-73229745f75d": {
     "id": "ff3dfd6d-e805-48b0-9ee6-73229745f75d",
     "prev": "77322cfa-3f1b-4f2f-9da4-543dc7c1e3f2",
     "regions": {
      "e19d1743-f1f2-4ba7-8fc0-b027e123a275": {
       "attrs": {
        "height": 0.8,
        "width": 0.8,
        "x": 0.1,
        "y": 0.1
       },
       "content": {
        "cell": "2e96de0e-7660-4df5-b6c3-4fa6d11f5e46",
        "part": "whole"
       },
       "id": "e19d1743-f1f2-4ba7-8fc0-b027e123a275"
      }
     }
    },
    "ff4a1fe2-5ed0-4557-b9d4-69022b9f43d4": {
     "id": "ff4a1fe2-5ed0-4557-b9d4-69022b9f43d4",
     "prev": "4e876a5e-8c8f-4531-9c58-ef1367ec8d1c",
     "regions": {
      "70c17627-a3b2-4ad5-b860-8d1ca5df5204": {
       "attrs": {
        "height": 0.8,
        "width": 0.8,
        "x": 0.1,
        "y": 0.1
       },
       "content": {
        "cell": "c703d71b-21f7-4c24-bdef-3c3016290733",
        "part": "whole"
       },
       "id": "70c17627-a3b2-4ad5-b860-8d1ca5df5204"
      }
     }
    }
   },
   "themes": {}
  },
  "toc": {
   "nav_menu": {},
   "number_sections": true,
   "sideBar": true,
   "skip_h1_title": false,
   "title_cell": "Table of Contents",
   "title_sidebar": "Contents",
   "toc_cell": false,
   "toc_position": {},
   "toc_section_display": true,
   "toc_window_display": false
  },
  "varInspector": {
   "cols": {
    "lenName": 16,
    "lenType": 16,
    "lenVar": 40
   },
   "kernels_config": {
    "python": {
     "delete_cmd_postfix": "",
     "delete_cmd_prefix": "del ",
     "library": "var_list.py",
     "varRefreshCmd": "print(var_dic_list())"
    },
    "r": {
     "delete_cmd_postfix": ") ",
     "delete_cmd_prefix": "rm(",
     "library": "var_list.r",
     "varRefreshCmd": "cat(var_dic_list()) "
    }
   },
   "position": {
    "height": "414px",
    "left": "643.727px",
    "right": "20px",
    "top": "127.986px",
    "width": "556px"
   },
   "types_to_exclude": [
    "module",
    "function",
    "builtin_function_or_method",
    "instance",
    "_Feature"
   ],
   "window_display": false
  }
 },
 "nbformat": 4,
 "nbformat_minor": 2
}
