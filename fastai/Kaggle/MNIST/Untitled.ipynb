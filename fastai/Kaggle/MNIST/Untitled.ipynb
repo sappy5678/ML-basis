{
 "cells": [
  {
   "cell_type": "code",
   "execution_count": 1,
   "metadata": {},
   "outputs": [
    {
     "name": "stdout",
     "output_type": "stream",
     "text": [
      "downloading https://www.kaggle.com/c/digit-recognizer/download/train.csv\n",
      "\n",
      "train.csv 100% |####################################| Time: 0:00:07   9.9 MiB/s\n",
      "\n",
      "downloading https://www.kaggle.com/c/digit-recognizer/download/test.csv\n",
      "\n",
      "test.csv 100% |#####################################| Time: 0:00:05   9.5 MiB/s\n",
      "\n",
      "downloading https://www.kaggle.com/c/digit-recognizer/download/sample_submission.csv\n",
      "\n",
      "sample_submission.csv 100% |########################| Time: 0:00:00 360.4 KiB/s\n",
      "\n",
      "unzip:  cannot find or open *.zip, *.zip.zip or *.zip.ZIP.\n",
      "\n",
      "No zipfiles found.\n"
     ]
    }
   ],
   "source": [
    "# 下載資料集\n",
    "!kg download -c digit-recognizer\n",
    "!unzip -o \\*.zip\n"
   ]
  },
  {
   "cell_type": "code",
   "execution_count": null,
   "metadata": {},
   "outputs": [],
   "source": [
    "# !wget http://yann.lecun.com/exdb/mnist/train-images-idx3-ubyte.gz http://yann.lecun.com/exdb/mnist/train-labels-idx1-ubyte.gz\n",
    "# !mv  train-images-idx3-ubyte train-images-idx3-ubyte.gz\n",
    "# !mv  train-labels-idx1-ubyte train-images-idx3-ubyte.gz\n",
    "!gunzip -o train-labels-idx1-ubyte.gz \n",
    "!gunzip -o train-images-idx3-ubyte.gz "
   ]
  },
  {
   "cell_type": "code",
   "execution_count": 10,
   "metadata": {},
   "outputs": [],
   "source": [
    "!rm *.gz"
   ]
  },
  {
   "cell_type": "code",
   "execution_count": null,
   "metadata": {},
   "outputs": [],
   "source": []
  }
 ],
 "metadata": {
  "kernelspec": {
   "display_name": "Python [conda env:DL3]",
   "language": "python",
   "name": "conda-env-DL3-py"
  },
  "language_info": {
   "codemirror_mode": {
    "name": "ipython",
    "version": 3
   },
   "file_extension": ".py",
   "mimetype": "text/x-python",
   "name": "python",
   "nbconvert_exporter": "python",
   "pygments_lexer": "ipython3",
   "version": "3.6.3"
  }
 },
 "nbformat": 4,
 "nbformat_minor": 2
}
