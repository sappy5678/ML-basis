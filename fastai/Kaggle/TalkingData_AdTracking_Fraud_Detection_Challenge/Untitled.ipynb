{
 "cells": [
  {
   "cell_type": "code",
   "execution_count": 6,
   "metadata": {},
   "outputs": [
    {
     "name": "stdout",
     "output_type": "stream",
     "text": [
      "Archive:  test.csv.zip\n",
      "  inflating: ./data/test.csv         \n",
      "\n",
      "Archive:  sample_submission.csv.zip\n",
      "  inflating: ./data/mnt/ssd/kaggle-talkingdata2/competition_files/sample_submission.csv  \n",
      "\n",
      "Archive:  train_sample.csv.zip\n",
      "  inflating: ./data/mnt/ssd/kaggle-talkingdata2/competition_files/train_sample.csv  \n",
      "\n",
      "Archive:  train.csv.zip\n",
      "  inflating: ./data/mnt/ssd/kaggle-talkingdata2/competition_files/train.csv  \n",
      "\n",
      "4 archives were successfully processed.\n"
     ]
    }
   ],
   "source": [
    "# 下載資料集\n",
    "# !kg download -c talkingdata-adtracking-fraud-detection\n",
    "!unzip -o \\*.zip -d ./data \n",
    "# !unzip '*.zip' "
   ]
  },
  {
   "cell_type": "code",
   "execution_count": null,
   "metadata": {},
   "outputs": [],
   "source": []
  }
 ],
 "metadata": {
  "kernelspec": {
   "display_name": "Python [conda env:DL3]",
   "language": "python",
   "name": "conda-env-DL3-py"
  },
  "language_info": {
   "codemirror_mode": {
    "name": "ipython",
    "version": 3
   },
   "file_extension": ".py",
   "mimetype": "text/x-python",
   "name": "python",
   "nbconvert_exporter": "python",
   "pygments_lexer": "ipython3",
   "version": "3.6.3"
  }
 },
 "nbformat": 4,
 "nbformat_minor": 2
}
