{
 "cells": [
  {
   "cell_type": "code",
   "execution_count": 15,
   "metadata": {},
   "outputs": [],
   "source": [
    "import torch\n",
    "from torch.autograd import Variable"
   ]
  },
  {
   "cell_type": "code",
   "execution_count": 16,
   "metadata": {},
   "outputs": [
    {
     "name": "stdout",
     "output_type": "stream",
     "text": [
      "\n",
      "-1.4151  0.0167 -0.3559\n",
      " 1.2059  0.3529 -0.2231\n",
      " 0.0947 -1.1523 -2.3066\n",
      " 1.7854  0.0425 -0.0693\n",
      "-0.8720 -1.3656 -1.2100\n",
      "[torch.FloatTensor of size 5x3]\n",
      " \n",
      "-0.0132 -0.5665 -0.5324\n",
      " 0.6673 -0.4667  0.3898\n",
      "-3.4188 -1.1819  1.0075\n",
      " 0.4102  1.1662  0.2643\n",
      " 0.9451  2.1289  1.2558\n",
      "[torch.FloatTensor of size 5x3]\n",
      "\n"
     ]
    }
   ],
   "source": [
    "a = torch.randn(5,3)\n",
    "b = torch.randn(5,3)\n",
    "print(a,b)"
   ]
  },
  {
   "cell_type": "code",
   "execution_count": 17,
   "metadata": {},
   "outputs": [],
   "source": [
    "c = a + b"
   ]
  },
  {
   "cell_type": "code",
   "execution_count": 18,
   "metadata": {},
   "outputs": [
    {
     "data": {
      "text/plain": [
       "\n",
       "-1.4284 -0.5497 -0.8884\n",
       " 1.8733 -0.1138  0.1667\n",
       "-3.3242 -2.3342 -1.2992\n",
       " 2.1956  1.2087  0.1950\n",
       " 0.0731  0.7633  0.0458\n",
       "[torch.FloatTensor of size 5x3]"
      ]
     },
     "execution_count": 18,
     "metadata": {},
     "output_type": "execute_result"
    }
   ],
   "source": [
    "c"
   ]
  },
  {
   "cell_type": "code",
   "execution_count": 20,
   "metadata": {},
   "outputs": [
    {
     "name": "stdout",
     "output_type": "stream",
     "text": [
      "<class 'torch.FloatTensor'>\n"
     ]
    }
   ],
   "source": [
    "# a = Variable(a)\n",
    "# b = Variable(b)\n",
    "c = Variable(c)\n",
    "\n",
    "print(type(a))"
   ]
  },
  {
   "cell_type": "code",
   "execution_count": null,
   "metadata": {},
   "outputs": [],
   "source": []
  }
 ],
 "metadata": {
  "kernelspec": {
   "display_name": "Python [conda env:DL3]",
   "language": "python",
   "name": "conda-env-DL3-py"
  },
  "language_info": {
   "codemirror_mode": {
    "name": "ipython",
    "version": 3
   },
   "file_extension": ".py",
   "mimetype": "text/x-python",
   "name": "python",
   "nbconvert_exporter": "python",
   "pygments_lexer": "ipython3",
   "version": "3.6.3"
  }
 },
 "nbformat": 4,
 "nbformat_minor": 2
}
